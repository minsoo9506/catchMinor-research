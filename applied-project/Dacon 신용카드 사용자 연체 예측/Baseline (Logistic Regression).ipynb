{
 "cells": [
  {
   "cell_type": "code",
   "execution_count": 183,
   "metadata": {
    "ExecuteTime": {
     "end_time": "2021-04-22T15:16:34.933496Z",
     "start_time": "2021-04-22T15:16:34.926496Z"
    }
   },
   "outputs": [],
   "source": [
    "import warnings\n",
    "warnings.filterwarnings('ignore')\n",
    "import pandas as pd\n",
    "import numpy as np\n",
    "import matplotlib.pyplot as plt\n",
    "import seaborn as sns"
   ]
  },
  {
   "cell_type": "code",
   "execution_count": 125,
   "metadata": {
    "ExecuteTime": {
     "end_time": "2021-04-22T14:50:11.365814Z",
     "start_time": "2021-04-22T14:50:11.296682Z"
    }
   },
   "outputs": [],
   "source": [
    "train = pd.read_csv('data/train.csv')\n",
    "test = pd.read_csv('data/test.csv')\n",
    "submission = pd.read_csv('data/sample_submission.csv')"
   ]
  },
  {
   "cell_type": "code",
   "execution_count": 126,
   "metadata": {
    "ExecuteTime": {
     "end_time": "2021-04-22T14:50:11.700910Z",
     "start_time": "2021-04-22T14:50:11.695911Z"
    }
   },
   "outputs": [
    {
     "name": "stdout",
     "output_type": "stream",
     "text": [
      "train shape : (26457, 20)\n",
      "test shape : (10000, 19)\n"
     ]
    }
   ],
   "source": [
    "print(f'train shape : {train.shape}')\n",
    "print(f'test shape : {test.shape}')"
   ]
  },
  {
   "cell_type": "code",
   "execution_count": 127,
   "metadata": {
    "ExecuteTime": {
     "end_time": "2021-04-22T14:50:12.048083Z",
     "start_time": "2021-04-22T14:50:12.016686Z"
    }
   },
   "outputs": [],
   "source": [
    "cols = ['gender', 'car', 'reality', 'child_num', 'income_total',\n",
    "       'income_type', 'edu_type', 'family_type', 'house_type', 'DAYS_BIRTH',\n",
    "       'DAYS_EMPLOYED', 'FLAG_MOBIL', 'work_phone', 'phone', 'email',\n",
    "       'occyp_type', 'family_size', 'begin_month']\n",
    "train.drop_duplicates(cols, inplace=True)"
   ]
  },
  {
   "cell_type": "code",
   "execution_count": 128,
   "metadata": {
    "ExecuteTime": {
     "end_time": "2021-04-22T14:50:12.307999Z",
     "start_time": "2021-04-22T14:50:12.296972Z"
    }
   },
   "outputs": [
    {
     "name": "stdout",
     "output_type": "stream",
     "text": [
      "train shape : (24104, 20)\n"
     ]
    }
   ],
   "source": [
    "print(f'train shape : {train.shape}')"
   ]
  },
  {
   "cell_type": "code",
   "execution_count": 129,
   "metadata": {
    "ExecuteTime": {
     "end_time": "2021-04-22T14:50:12.702486Z",
     "start_time": "2021-04-22T14:50:12.685485Z"
    }
   },
   "outputs": [],
   "source": [
    "train['DAYS_BIRTH'] = - round(train['DAYS_BIRTH'] / 365)\n",
    "\n",
    "test['DAYS_BIRTH'] = - round(test['DAYS_BIRTH'] / 365)"
   ]
  },
  {
   "cell_type": "code",
   "execution_count": 130,
   "metadata": {
    "ExecuteTime": {
     "end_time": "2021-04-22T14:50:13.020180Z",
     "start_time": "2021-04-22T14:50:12.997305Z"
    }
   },
   "outputs": [],
   "source": [
    "train['DAYS_EMPLOYED'] = - (train['DAYS_EMPLOYED'] / 365)\n",
    "train.loc[train['DAYS_EMPLOYED'] < 0, 'DAYS_EMPLOYED'] = 0\n",
    "\n",
    "test['DAYS_EMPLOYED'] = - (test['DAYS_EMPLOYED'] / 365)\n",
    "test.loc[test['DAYS_EMPLOYED'] < 0, 'DAYS_EMPLOYED'] = 0"
   ]
  },
  {
   "cell_type": "code",
   "execution_count": 131,
   "metadata": {
    "ExecuteTime": {
     "end_time": "2021-04-22T14:50:14.954715Z",
     "start_time": "2021-04-22T14:50:14.934745Z"
    }
   },
   "outputs": [
    {
     "name": "stdout",
     "output_type": "stream",
     "text": [
      "<class 'pandas.core.frame.DataFrame'>\n",
      "Int64Index: 24104 entries, 0 to 26456\n",
      "Data columns (total 20 columns):\n",
      " #   Column         Non-Null Count  Dtype  \n",
      "---  ------         --------------  -----  \n",
      " 0   index          24104 non-null  int64  \n",
      " 1   gender         24104 non-null  object \n",
      " 2   car            24104 non-null  object \n",
      " 3   reality        24104 non-null  object \n",
      " 4   child_num      24104 non-null  int64  \n",
      " 5   income_total   24104 non-null  float64\n",
      " 6   income_type    24104 non-null  object \n",
      " 7   edu_type       24104 non-null  object \n",
      " 8   family_type    24104 non-null  object \n",
      " 9   house_type     24104 non-null  object \n",
      " 10  DAYS_BIRTH     24104 non-null  float64\n",
      " 11  DAYS_EMPLOYED  24104 non-null  float64\n",
      " 12  FLAG_MOBIL     24104 non-null  int64  \n",
      " 13  work_phone     24104 non-null  int64  \n",
      " 14  phone          24104 non-null  int64  \n",
      " 15  email          24104 non-null  int64  \n",
      " 16  occyp_type     16685 non-null  object \n",
      " 17  family_size    24104 non-null  float64\n",
      " 18  begin_month    24104 non-null  float64\n",
      " 19  credit         24104 non-null  float64\n",
      "dtypes: float64(6), int64(6), object(8)\n",
      "memory usage: 3.9+ MB\n"
     ]
    }
   ],
   "source": [
    "train.info()"
   ]
  },
  {
   "cell_type": "code",
   "execution_count": 118,
   "metadata": {
    "ExecuteTime": {
     "end_time": "2021-04-22T14:48:07.300269Z",
     "start_time": "2021-04-22T14:48:07.286584Z"
    }
   },
   "outputs": [
    {
     "data": {
      "text/plain": [
       "2.0    0.644997\n",
       "1.0    0.236143\n",
       "0.0    0.118860\n",
       "Name: credit, dtype: float64"
      ]
     },
     "execution_count": 118,
     "metadata": {},
     "output_type": "execute_result"
    }
   ],
   "source": [
    "train['credit'].value_counts() / len(train)"
   ]
  },
  {
   "cell_type": "code",
   "execution_count": 119,
   "metadata": {
    "ExecuteTime": {
     "end_time": "2021-04-22T14:48:07.679242Z",
     "start_time": "2021-04-22T14:48:07.660279Z"
    },
    "scrolled": true
   },
   "outputs": [
    {
     "data": {
      "text/html": [
       "<div>\n",
       "<style scoped>\n",
       "    .dataframe tbody tr th:only-of-type {\n",
       "        vertical-align: middle;\n",
       "    }\n",
       "\n",
       "    .dataframe tbody tr th {\n",
       "        vertical-align: top;\n",
       "    }\n",
       "\n",
       "    .dataframe thead th {\n",
       "        text-align: right;\n",
       "    }\n",
       "</style>\n",
       "<table border=\"1\" class=\"dataframe\">\n",
       "  <thead>\n",
       "    <tr style=\"text-align: right;\">\n",
       "      <th></th>\n",
       "      <th>index</th>\n",
       "      <th>gender</th>\n",
       "      <th>car</th>\n",
       "      <th>reality</th>\n",
       "      <th>child_num</th>\n",
       "      <th>income_total</th>\n",
       "      <th>income_type</th>\n",
       "      <th>edu_type</th>\n",
       "      <th>family_type</th>\n",
       "      <th>house_type</th>\n",
       "      <th>DAYS_BIRTH</th>\n",
       "      <th>DAYS_EMPLOYED</th>\n",
       "      <th>FLAG_MOBIL</th>\n",
       "      <th>work_phone</th>\n",
       "      <th>phone</th>\n",
       "      <th>email</th>\n",
       "      <th>occyp_type</th>\n",
       "      <th>family_size</th>\n",
       "      <th>begin_month</th>\n",
       "      <th>credit</th>\n",
       "    </tr>\n",
       "  </thead>\n",
       "  <tbody>\n",
       "    <tr>\n",
       "      <th>0</th>\n",
       "      <td>0</td>\n",
       "      <td>F</td>\n",
       "      <td>N</td>\n",
       "      <td>N</td>\n",
       "      <td>0</td>\n",
       "      <td>202500.0</td>\n",
       "      <td>Commercial associate</td>\n",
       "      <td>Higher education</td>\n",
       "      <td>Married</td>\n",
       "      <td>Municipal apartment</td>\n",
       "      <td>38.0</td>\n",
       "      <td>12.901370</td>\n",
       "      <td>1</td>\n",
       "      <td>0</td>\n",
       "      <td>0</td>\n",
       "      <td>0</td>\n",
       "      <td>NaN</td>\n",
       "      <td>2.0</td>\n",
       "      <td>-6.0</td>\n",
       "      <td>1.0</td>\n",
       "    </tr>\n",
       "    <tr>\n",
       "      <th>1</th>\n",
       "      <td>1</td>\n",
       "      <td>F</td>\n",
       "      <td>N</td>\n",
       "      <td>Y</td>\n",
       "      <td>1</td>\n",
       "      <td>247500.0</td>\n",
       "      <td>Commercial associate</td>\n",
       "      <td>Secondary / secondary special</td>\n",
       "      <td>Civil marriage</td>\n",
       "      <td>House / apartment</td>\n",
       "      <td>31.0</td>\n",
       "      <td>4.219178</td>\n",
       "      <td>1</td>\n",
       "      <td>0</td>\n",
       "      <td>0</td>\n",
       "      <td>1</td>\n",
       "      <td>Laborers</td>\n",
       "      <td>3.0</td>\n",
       "      <td>-5.0</td>\n",
       "      <td>1.0</td>\n",
       "    </tr>\n",
       "    <tr>\n",
       "      <th>2</th>\n",
       "      <td>2</td>\n",
       "      <td>M</td>\n",
       "      <td>Y</td>\n",
       "      <td>Y</td>\n",
       "      <td>0</td>\n",
       "      <td>450000.0</td>\n",
       "      <td>Working</td>\n",
       "      <td>Higher education</td>\n",
       "      <td>Married</td>\n",
       "      <td>House / apartment</td>\n",
       "      <td>52.0</td>\n",
       "      <td>12.147945</td>\n",
       "      <td>1</td>\n",
       "      <td>0</td>\n",
       "      <td>1</td>\n",
       "      <td>0</td>\n",
       "      <td>Managers</td>\n",
       "      <td>2.0</td>\n",
       "      <td>-22.0</td>\n",
       "      <td>2.0</td>\n",
       "    </tr>\n",
       "    <tr>\n",
       "      <th>3</th>\n",
       "      <td>3</td>\n",
       "      <td>F</td>\n",
       "      <td>N</td>\n",
       "      <td>Y</td>\n",
       "      <td>0</td>\n",
       "      <td>202500.0</td>\n",
       "      <td>Commercial associate</td>\n",
       "      <td>Secondary / secondary special</td>\n",
       "      <td>Married</td>\n",
       "      <td>House / apartment</td>\n",
       "      <td>41.0</td>\n",
       "      <td>5.731507</td>\n",
       "      <td>1</td>\n",
       "      <td>0</td>\n",
       "      <td>1</td>\n",
       "      <td>0</td>\n",
       "      <td>Sales staff</td>\n",
       "      <td>2.0</td>\n",
       "      <td>-37.0</td>\n",
       "      <td>0.0</td>\n",
       "    </tr>\n",
       "    <tr>\n",
       "      <th>4</th>\n",
       "      <td>4</td>\n",
       "      <td>F</td>\n",
       "      <td>Y</td>\n",
       "      <td>Y</td>\n",
       "      <td>0</td>\n",
       "      <td>157500.0</td>\n",
       "      <td>State servant</td>\n",
       "      <td>Higher education</td>\n",
       "      <td>Married</td>\n",
       "      <td>House / apartment</td>\n",
       "      <td>41.0</td>\n",
       "      <td>5.767123</td>\n",
       "      <td>1</td>\n",
       "      <td>0</td>\n",
       "      <td>0</td>\n",
       "      <td>0</td>\n",
       "      <td>Managers</td>\n",
       "      <td>2.0</td>\n",
       "      <td>-26.0</td>\n",
       "      <td>2.0</td>\n",
       "    </tr>\n",
       "  </tbody>\n",
       "</table>\n",
       "</div>"
      ],
      "text/plain": [
       "   index gender car reality  child_num  income_total           income_type  \\\n",
       "0      0      F   N       N          0      202500.0  Commercial associate   \n",
       "1      1      F   N       Y          1      247500.0  Commercial associate   \n",
       "2      2      M   Y       Y          0      450000.0               Working   \n",
       "3      3      F   N       Y          0      202500.0  Commercial associate   \n",
       "4      4      F   Y       Y          0      157500.0         State servant   \n",
       "\n",
       "                        edu_type     family_type           house_type  \\\n",
       "0               Higher education         Married  Municipal apartment   \n",
       "1  Secondary / secondary special  Civil marriage    House / apartment   \n",
       "2               Higher education         Married    House / apartment   \n",
       "3  Secondary / secondary special         Married    House / apartment   \n",
       "4               Higher education         Married    House / apartment   \n",
       "\n",
       "   DAYS_BIRTH  DAYS_EMPLOYED  FLAG_MOBIL  work_phone  phone  email  \\\n",
       "0        38.0      12.901370           1           0      0      0   \n",
       "1        31.0       4.219178           1           0      0      1   \n",
       "2        52.0      12.147945           1           0      1      0   \n",
       "3        41.0       5.731507           1           0      1      0   \n",
       "4        41.0       5.767123           1           0      0      0   \n",
       "\n",
       "    occyp_type  family_size  begin_month  credit  \n",
       "0          NaN          2.0         -6.0     1.0  \n",
       "1     Laborers          3.0         -5.0     1.0  \n",
       "2     Managers          2.0        -22.0     2.0  \n",
       "3  Sales staff          2.0        -37.0     0.0  \n",
       "4     Managers          2.0        -26.0     2.0  "
      ]
     },
     "execution_count": 119,
     "metadata": {},
     "output_type": "execute_result"
    }
   ],
   "source": [
    "train.head()"
   ]
  },
  {
   "cell_type": "code",
   "execution_count": 134,
   "metadata": {
    "ExecuteTime": {
     "end_time": "2021-04-22T14:50:39.273938Z",
     "start_time": "2021-04-22T14:50:39.257926Z"
    }
   },
   "outputs": [],
   "source": [
    "# 일단 None으로 하고 나중에 더 fancy한 imputation 꼭 해야할듯\n",
    "train['occyp_type'].fillna('none', inplace=True)\n",
    "test['occyp_type'].fillna('none', inplace=True)"
   ]
  },
  {
   "cell_type": "markdown",
   "metadata": {},
   "source": [
    "# EDA"
   ]
  },
  {
   "cell_type": "code",
   "execution_count": 149,
   "metadata": {
    "ExecuteTime": {
     "end_time": "2021-04-22T14:59:18.187917Z",
     "start_time": "2021-04-22T14:59:18.075720Z"
    }
   },
   "outputs": [
    {
     "data": {
      "text/plain": [
       "<matplotlib.axes._subplots.AxesSubplot at 0x276173a48b0>"
      ]
     },
     "execution_count": 149,
     "metadata": {},
     "output_type": "execute_result"
    },
    {
     "data": {
      "image/png": "[encoded data removed]",
      "text/plain": [
       "<Figure size 432x288 with 1 Axes>"
      ]
     },
     "metadata": {
      "needs_background": "light"
     },
     "output_type": "display_data"
    }
   ],
   "source": [
    "sns.boxplot(x='credit', y='child_num',\n",
    "           data=train)"
   ]
  },
  {
   "cell_type": "code",
   "execution_count": 32,
   "metadata": {
    "ExecuteTime": {
     "end_time": "2021-04-22T13:49:17.065052Z",
     "start_time": "2021-04-22T13:49:16.958544Z"
    }
   },
   "outputs": [
    {
     "data": {
      "text/plain": [
       "<matplotlib.axes._subplots.AxesSubplot at 0x2760c026700>"
      ]
     },
     "execution_count": 32,
     "metadata": {},
     "output_type": "execute_result"
    },
    {
     "data": {
      "image/png": "[encoded data removed]",
      "text/plain": [
       "<Figure size 432x288 with 1 Axes>"
      ]
     },
     "metadata": {
      "needs_background": "light"
     },
     "output_type": "display_data"
    }
   ],
   "source": [
    "sns.boxplot(x='credit', y='income_total',\n",
    "            data=train.loc[train['income_total'] < 0.4*1e6, :])"
   ]
  },
  {
   "cell_type": "code",
   "execution_count": 34,
   "metadata": {
    "ExecuteTime": {
     "end_time": "2021-04-22T13:50:52.842473Z",
     "start_time": "2021-04-22T13:50:52.737387Z"
    }
   },
   "outputs": [
    {
     "data": {
      "text/plain": [
       "<matplotlib.axes._subplots.AxesSubplot at 0x2760c0851c0>"
      ]
     },
     "execution_count": 34,
     "metadata": {},
     "output_type": "execute_result"
    },
    {
     "data": {
      "image/png": "[encoded data removed]",
      "text/plain": [
       "<Figure size 432x288 with 1 Axes>"
      ]
     },
     "metadata": {
      "needs_background": "light"
     },
     "output_type": "display_data"
    }
   ],
   "source": [
    "sns.boxplot(x='credit', y='DAYS_BIRTH',\n",
    "            data=train)"
   ]
  },
  {
   "cell_type": "code",
   "execution_count": 37,
   "metadata": {
    "ExecuteTime": {
     "end_time": "2021-04-22T13:52:02.193242Z",
     "start_time": "2021-04-22T13:52:02.077242Z"
    }
   },
   "outputs": [
    {
     "data": {
      "text/plain": [
       "<matplotlib.axes._subplots.AxesSubplot at 0x2760bee2070>"
      ]
     },
     "execution_count": 37,
     "metadata": {},
     "output_type": "execute_result"
    },
    {
     "data": {
      "image/png": "[encoded data removed]",
      "text/plain": [
       "<Figure size 432x288 with 1 Axes>"
      ]
     },
     "metadata": {
      "needs_background": "light"
     },
     "output_type": "display_data"
    }
   ],
   "source": [
    "sns.boxplot(x='credit', y='DAYS_EMPLOYED',\n",
    "            data=train.loc[train['DAYS_EMPLOYED'] < 0, :] )"
   ]
  },
  {
   "cell_type": "code",
   "execution_count": 38,
   "metadata": {
    "ExecuteTime": {
     "end_time": "2021-04-22T13:52:46.139406Z",
     "start_time": "2021-04-22T13:52:46.034201Z"
    }
   },
   "outputs": [
    {
     "data": {
      "text/plain": [
       "<matplotlib.axes._subplots.AxesSubplot at 0x2760bb61820>"
      ]
     },
     "execution_count": 38,
     "metadata": {},
     "output_type": "execute_result"
    },
    {
     "data": {
      "image/png": "[encoded data removed]",
      "text/plain": [
       "<Figure size 432x288 with 1 Axes>"
      ]
     },
     "metadata": {
      "needs_background": "light"
     },
     "output_type": "display_data"
    }
   ],
   "source": [
    "sns.boxplot(x='credit', y='begin_month',\n",
    "            data=train )"
   ]
  },
  {
   "cell_type": "code",
   "execution_count": 150,
   "metadata": {
    "ExecuteTime": {
     "end_time": "2021-04-22T15:00:12.408816Z",
     "start_time": "2021-04-22T15:00:12.398843Z"
    }
   },
   "outputs": [],
   "source": [
    "train = train.loc[train['child_num'] < 10, :]"
   ]
  },
  {
   "cell_type": "code",
   "execution_count": 151,
   "metadata": {
    "ExecuteTime": {
     "end_time": "2021-04-22T15:00:12.605341Z",
     "start_time": "2021-04-22T15:00:12.591341Z"
    }
   },
   "outputs": [
    {
     "data": {
      "text/plain": [
       "Index(['index', 'gender', 'car', 'reality', 'child_num', 'income_total',\n",
       "       'income_type', 'edu_type', 'family_type', 'house_type', 'DAYS_BIRTH',\n",
       "       'DAYS_EMPLOYED', 'FLAG_MOBIL', 'work_phone', 'phone', 'email',\n",
       "       'occyp_type', 'family_size', 'begin_month', 'credit'],\n",
       "      dtype='object')"
      ]
     },
     "execution_count": 151,
     "metadata": {},
     "output_type": "execute_result"
    }
   ],
   "source": [
    "train.columns"
   ]
  },
  {
   "cell_type": "code",
   "execution_count": 152,
   "metadata": {
    "ExecuteTime": {
     "end_time": "2021-04-22T15:00:17.881107Z",
     "start_time": "2021-04-22T15:00:17.865415Z"
    }
   },
   "outputs": [],
   "source": [
    "categoric_cols = ['gender','car','reality',\n",
    "                 'income_type', 'edu_type', 'family_type',\n",
    "                 'house_type', 'FLAG_MOBIL', 'work_phone',\n",
    "                 'phone', 'email', 'occyp_type']\n",
    "numeric_cols = ['child_num', 'income_total', 'DAYS_BIRTH', 'DAYS_EMPLOYED', 'family_size', 'begin_month']"
   ]
  },
  {
   "cell_type": "code",
   "execution_count": 158,
   "metadata": {
    "ExecuteTime": {
     "end_time": "2021-04-22T15:01:41.902191Z",
     "start_time": "2021-04-22T15:01:41.856296Z"
    }
   },
   "outputs": [],
   "source": [
    "train_OH = pd.get_dummies(train, columns=categoric_cols, drop_first=True)\n",
    "test_OH = pd.get_dummies(test, columns=categoric_cols, drop_first=True)"
   ]
  },
  {
   "cell_type": "code",
   "execution_count": 159,
   "metadata": {
    "ExecuteTime": {
     "end_time": "2021-04-22T15:01:42.205268Z",
     "start_time": "2021-04-22T15:01:42.177269Z"
    }
   },
   "outputs": [],
   "source": [
    "from sklearn.preprocessing import StandardScaler\n",
    "\n",
    "scaler = StandardScaler()\n",
    "scaler.fit(train_OH[numeric_cols])\n",
    "train_OH_scaled = scaler.transform(train_OH[numeric_cols])\n",
    "test_OH_scaled = scaler.transform(test_OH[numeric_cols])"
   ]
  },
  {
   "cell_type": "code",
   "execution_count": 160,
   "metadata": {
    "ExecuteTime": {
     "end_time": "2021-04-22T15:01:42.552784Z",
     "start_time": "2021-04-22T15:01:42.518071Z"
    }
   },
   "outputs": [],
   "source": [
    "train_final = train_OH.copy()\n",
    "test_final = test_OH.copy()\n",
    "\n",
    "train_final[numeric_cols] = train_OH_scaled\n",
    "test_final[numeric_cols] = test_OH_scaled"
   ]
  },
  {
   "cell_type": "code",
   "execution_count": 178,
   "metadata": {
    "ExecuteTime": {
     "end_time": "2021-04-22T15:14:32.101772Z",
     "start_time": "2021-04-22T15:14:32.076185Z"
    }
   },
   "outputs": [
    {
     "data": {
      "text/html": [
       "<div>\n",
       "<style scoped>\n",
       "    .dataframe tbody tr th:only-of-type {\n",
       "        vertical-align: middle;\n",
       "    }\n",
       "\n",
       "    .dataframe tbody tr th {\n",
       "        vertical-align: top;\n",
       "    }\n",
       "\n",
       "    .dataframe thead th {\n",
       "        text-align: right;\n",
       "    }\n",
       "</style>\n",
       "<table border=\"1\" class=\"dataframe\">\n",
       "  <thead>\n",
       "    <tr style=\"text-align: right;\">\n",
       "      <th></th>\n",
       "      <th>index</th>\n",
       "      <th>child_num</th>\n",
       "      <th>income_total</th>\n",
       "      <th>DAYS_BIRTH</th>\n",
       "      <th>DAYS_EMPLOYED</th>\n",
       "      <th>family_size</th>\n",
       "      <th>begin_month</th>\n",
       "      <th>credit</th>\n",
       "      <th>gender_M</th>\n",
       "      <th>car_Y</th>\n",
       "      <th>...</th>\n",
       "      <th>occyp_type_Low-skill Laborers</th>\n",
       "      <th>occyp_type_Managers</th>\n",
       "      <th>occyp_type_Medicine staff</th>\n",
       "      <th>occyp_type_Private service staff</th>\n",
       "      <th>occyp_type_Realty agents</th>\n",
       "      <th>occyp_type_Sales staff</th>\n",
       "      <th>occyp_type_Secretaries</th>\n",
       "      <th>occyp_type_Security staff</th>\n",
       "      <th>occyp_type_Waiters/barmen staff</th>\n",
       "      <th>occyp_type_none</th>\n",
       "    </tr>\n",
       "  </thead>\n",
       "  <tbody>\n",
       "    <tr>\n",
       "      <th>0</th>\n",
       "      <td>0</td>\n",
       "      <td>-0.591186</td>\n",
       "      <td>0.156350</td>\n",
       "      <td>-0.495717</td>\n",
       "      <td>1.062968</td>\n",
       "      <td>-0.219251</td>\n",
       "      <td>1.212203</td>\n",
       "      <td>1.0</td>\n",
       "      <td>0</td>\n",
       "      <td>0</td>\n",
       "      <td>...</td>\n",
       "      <td>0</td>\n",
       "      <td>0</td>\n",
       "      <td>0</td>\n",
       "      <td>0</td>\n",
       "      <td>0</td>\n",
       "      <td>0</td>\n",
       "      <td>0</td>\n",
       "      <td>0</td>\n",
       "      <td>0</td>\n",
       "      <td>1</td>\n",
       "    </tr>\n",
       "    <tr>\n",
       "      <th>1</th>\n",
       "      <td>1</td>\n",
       "      <td>0.786589</td>\n",
       "      <td>0.601656</td>\n",
       "      <td>-1.102109</td>\n",
       "      <td>-0.275762</td>\n",
       "      <td>0.891057</td>\n",
       "      <td>1.272701</td>\n",
       "      <td>1.0</td>\n",
       "      <td>0</td>\n",
       "      <td>0</td>\n",
       "      <td>...</td>\n",
       "      <td>0</td>\n",
       "      <td>0</td>\n",
       "      <td>0</td>\n",
       "      <td>0</td>\n",
       "      <td>0</td>\n",
       "      <td>0</td>\n",
       "      <td>0</td>\n",
       "      <td>0</td>\n",
       "      <td>0</td>\n",
       "      <td>0</td>\n",
       "    </tr>\n",
       "    <tr>\n",
       "      <th>2</th>\n",
       "      <td>2</td>\n",
       "      <td>-0.591186</td>\n",
       "      <td>2.605532</td>\n",
       "      <td>0.717066</td>\n",
       "      <td>0.946796</td>\n",
       "      <td>-0.219251</td>\n",
       "      <td>0.244238</td>\n",
       "      <td>2.0</td>\n",
       "      <td>1</td>\n",
       "      <td>1</td>\n",
       "      <td>...</td>\n",
       "      <td>0</td>\n",
       "      <td>1</td>\n",
       "      <td>0</td>\n",
       "      <td>0</td>\n",
       "      <td>0</td>\n",
       "      <td>0</td>\n",
       "      <td>0</td>\n",
       "      <td>0</td>\n",
       "      <td>0</td>\n",
       "      <td>0</td>\n",
       "    </tr>\n",
       "    <tr>\n",
       "      <th>3</th>\n",
       "      <td>3</td>\n",
       "      <td>-0.591186</td>\n",
       "      <td>0.156350</td>\n",
       "      <td>-0.235835</td>\n",
       "      <td>-0.042572</td>\n",
       "      <td>-0.219251</td>\n",
       "      <td>-0.663229</td>\n",
       "      <td>0.0</td>\n",
       "      <td>0</td>\n",
       "      <td>0</td>\n",
       "      <td>...</td>\n",
       "      <td>0</td>\n",
       "      <td>0</td>\n",
       "      <td>0</td>\n",
       "      <td>0</td>\n",
       "      <td>0</td>\n",
       "      <td>1</td>\n",
       "      <td>0</td>\n",
       "      <td>0</td>\n",
       "      <td>0</td>\n",
       "      <td>0</td>\n",
       "    </tr>\n",
       "    <tr>\n",
       "      <th>4</th>\n",
       "      <td>4</td>\n",
       "      <td>-0.591186</td>\n",
       "      <td>-0.288956</td>\n",
       "      <td>-0.235835</td>\n",
       "      <td>-0.037080</td>\n",
       "      <td>-0.219251</td>\n",
       "      <td>0.002247</td>\n",
       "      <td>2.0</td>\n",
       "      <td>0</td>\n",
       "      <td>1</td>\n",
       "      <td>...</td>\n",
       "      <td>0</td>\n",
       "      <td>1</td>\n",
       "      <td>0</td>\n",
       "      <td>0</td>\n",
       "      <td>0</td>\n",
       "      <td>0</td>\n",
       "      <td>0</td>\n",
       "      <td>0</td>\n",
       "      <td>0</td>\n",
       "      <td>0</td>\n",
       "    </tr>\n",
       "    <tr>\n",
       "      <th>...</th>\n",
       "      <td>...</td>\n",
       "      <td>...</td>\n",
       "      <td>...</td>\n",
       "      <td>...</td>\n",
       "      <td>...</td>\n",
       "      <td>...</td>\n",
       "      <td>...</td>\n",
       "      <td>...</td>\n",
       "      <td>...</td>\n",
       "      <td>...</td>\n",
       "      <td>...</td>\n",
       "      <td>...</td>\n",
       "      <td>...</td>\n",
       "      <td>...</td>\n",
       "      <td>...</td>\n",
       "      <td>...</td>\n",
       "      <td>...</td>\n",
       "      <td>...</td>\n",
       "      <td>...</td>\n",
       "      <td>...</td>\n",
       "      <td>...</td>\n",
       "    </tr>\n",
       "    <tr>\n",
       "      <th>26452</th>\n",
       "      <td>26452</td>\n",
       "      <td>2.164365</td>\n",
       "      <td>0.379003</td>\n",
       "      <td>-0.928854</td>\n",
       "      <td>-0.088196</td>\n",
       "      <td>2.001365</td>\n",
       "      <td>1.454195</td>\n",
       "      <td>1.0</td>\n",
       "      <td>0</td>\n",
       "      <td>0</td>\n",
       "      <td>...</td>\n",
       "      <td>0</td>\n",
       "      <td>0</td>\n",
       "      <td>0</td>\n",
       "      <td>0</td>\n",
       "      <td>0</td>\n",
       "      <td>0</td>\n",
       "      <td>0</td>\n",
       "      <td>0</td>\n",
       "      <td>0</td>\n",
       "      <td>0</td>\n",
       "    </tr>\n",
       "    <tr>\n",
       "      <th>26453</th>\n",
       "      <td>26453</td>\n",
       "      <td>0.786589</td>\n",
       "      <td>-0.066303</td>\n",
       "      <td>-0.149208</td>\n",
       "      <td>0.119225</td>\n",
       "      <td>-0.219251</td>\n",
       "      <td>-1.268208</td>\n",
       "      <td>2.0</td>\n",
       "      <td>0</td>\n",
       "      <td>0</td>\n",
       "      <td>...</td>\n",
       "      <td>0</td>\n",
       "      <td>0</td>\n",
       "      <td>0</td>\n",
       "      <td>0</td>\n",
       "      <td>0</td>\n",
       "      <td>0</td>\n",
       "      <td>0</td>\n",
       "      <td>0</td>\n",
       "      <td>0</td>\n",
       "      <td>1</td>\n",
       "    </tr>\n",
       "    <tr>\n",
       "      <th>26454</th>\n",
       "      <td>26454</td>\n",
       "      <td>-0.591186</td>\n",
       "      <td>1.046962</td>\n",
       "      <td>-1.361991</td>\n",
       "      <td>-0.075100</td>\n",
       "      <td>-0.219251</td>\n",
       "      <td>0.062745</td>\n",
       "      <td>2.0</td>\n",
       "      <td>0</td>\n",
       "      <td>1</td>\n",
       "      <td>...</td>\n",
       "      <td>0</td>\n",
       "      <td>0</td>\n",
       "      <td>0</td>\n",
       "      <td>0</td>\n",
       "      <td>0</td>\n",
       "      <td>0</td>\n",
       "      <td>0</td>\n",
       "      <td>0</td>\n",
       "      <td>0</td>\n",
       "      <td>0</td>\n",
       "    </tr>\n",
       "    <tr>\n",
       "      <th>26455</th>\n",
       "      <td>26455</td>\n",
       "      <td>-0.591186</td>\n",
       "      <td>-0.155364</td>\n",
       "      <td>-1.361991</td>\n",
       "      <td>-0.881126</td>\n",
       "      <td>-1.329559</td>\n",
       "      <td>-1.994182</td>\n",
       "      <td>2.0</td>\n",
       "      <td>1</td>\n",
       "      <td>0</td>\n",
       "      <td>...</td>\n",
       "      <td>0</td>\n",
       "      <td>0</td>\n",
       "      <td>0</td>\n",
       "      <td>0</td>\n",
       "      <td>0</td>\n",
       "      <td>0</td>\n",
       "      <td>0</td>\n",
       "      <td>0</td>\n",
       "      <td>0</td>\n",
       "      <td>0</td>\n",
       "    </tr>\n",
       "    <tr>\n",
       "      <th>26456</th>\n",
       "      <td>26456</td>\n",
       "      <td>-0.591186</td>\n",
       "      <td>-1.045976</td>\n",
       "      <td>0.890321</td>\n",
       "      <td>-0.498391</td>\n",
       "      <td>-0.219251</td>\n",
       "      <td>1.030710</td>\n",
       "      <td>2.0</td>\n",
       "      <td>0</td>\n",
       "      <td>0</td>\n",
       "      <td>...</td>\n",
       "      <td>0</td>\n",
       "      <td>0</td>\n",
       "      <td>0</td>\n",
       "      <td>0</td>\n",
       "      <td>0</td>\n",
       "      <td>0</td>\n",
       "      <td>0</td>\n",
       "      <td>1</td>\n",
       "      <td>0</td>\n",
       "      <td>0</td>\n",
       "    </tr>\n",
       "  </tbody>\n",
       "</table>\n",
       "<p>24100 rows × 49 columns</p>\n",
       "</div>"
      ],
      "text/plain": [
       "       index  child_num  income_total  DAYS_BIRTH  DAYS_EMPLOYED  family_size  \\\n",
       "0          0  -0.591186      0.156350   -0.495717       1.062968    -0.219251   \n",
       "1          1   0.786589      0.601656   -1.102109      -0.275762     0.891057   \n",
       "2          2  -0.591186      2.605532    0.717066       0.946796    -0.219251   \n",
       "3          3  -0.591186      0.156350   -0.235835      -0.042572    -0.219251   \n",
       "4          4  -0.591186     -0.288956   -0.235835      -0.037080    -0.219251   \n",
       "...      ...        ...           ...         ...            ...          ...   \n",
       "26452  26452   2.164365      0.379003   -0.928854      -0.088196     2.001365   \n",
       "26453  26453   0.786589     -0.066303   -0.149208       0.119225    -0.219251   \n",
       "26454  26454  -0.591186      1.046962   -1.361991      -0.075100    -0.219251   \n",
       "26455  26455  -0.591186     -0.155364   -1.361991      -0.881126    -1.329559   \n",
       "26456  26456  -0.591186     -1.045976    0.890321      -0.498391    -0.219251   \n",
       "\n",
       "       begin_month  credit  gender_M  car_Y  ...  \\\n",
       "0         1.212203     1.0         0      0  ...   \n",
       "1         1.272701     1.0         0      0  ...   \n",
       "2         0.244238     2.0         1      1  ...   \n",
       "3        -0.663229     0.0         0      0  ...   \n",
       "4         0.002247     2.0         0      1  ...   \n",
       "...            ...     ...       ...    ...  ...   \n",
       "26452     1.454195     1.0         0      0  ...   \n",
       "26453    -1.268208     2.0         0      0  ...   \n",
       "26454     0.062745     2.0         0      1  ...   \n",
       "26455    -1.994182     2.0         1      0  ...   \n",
       "26456     1.030710     2.0         0      0  ...   \n",
       "\n",
       "       occyp_type_Low-skill Laborers  occyp_type_Managers  \\\n",
       "0                                  0                    0   \n",
       "1                                  0                    0   \n",
       "2                                  0                    1   \n",
       "3                                  0                    0   \n",
       "4                                  0                    1   \n",
       "...                              ...                  ...   \n",
       "26452                              0                    0   \n",
       "26453                              0                    0   \n",
       "26454                              0                    0   \n",
       "26455                              0                    0   \n",
       "26456                              0                    0   \n",
       "\n",
       "       occyp_type_Medicine staff  occyp_type_Private service staff  \\\n",
       "0                              0                                 0   \n",
       "1                              0                                 0   \n",
       "2                              0                                 0   \n",
       "3                              0                                 0   \n",
       "4                              0                                 0   \n",
       "...                          ...                               ...   \n",
       "26452                          0                                 0   \n",
       "26453                          0                                 0   \n",
       "26454                          0                                 0   \n",
       "26455                          0                                 0   \n",
       "26456                          0                                 0   \n",
       "\n",
       "       occyp_type_Realty agents  occyp_type_Sales staff  \\\n",
       "0                             0                       0   \n",
       "1                             0                       0   \n",
       "2                             0                       0   \n",
       "3                             0                       1   \n",
       "4                             0                       0   \n",
       "...                         ...                     ...   \n",
       "26452                         0                       0   \n",
       "26453                         0                       0   \n",
       "26454                         0                       0   \n",
       "26455                         0                       0   \n",
       "26456                         0                       0   \n",
       "\n",
       "       occyp_type_Secretaries  occyp_type_Security staff  \\\n",
       "0                           0                          0   \n",
       "1                           0                          0   \n",
       "2                           0                          0   \n",
       "3                           0                          0   \n",
       "4                           0                          0   \n",
       "...                       ...                        ...   \n",
       "26452                       0                          0   \n",
       "26453                       0                          0   \n",
       "26454                       0                          0   \n",
       "26455                       0                          0   \n",
       "26456                       0                          1   \n",
       "\n",
       "       occyp_type_Waiters/barmen staff  occyp_type_none  \n",
       "0                                    0                1  \n",
       "1                                    0                0  \n",
       "2                                    0                0  \n",
       "3                                    0                0  \n",
       "4                                    0                0  \n",
       "...                                ...              ...  \n",
       "26452                                0                0  \n",
       "26453                                0                1  \n",
       "26454                                0                0  \n",
       "26455                                0                0  \n",
       "26456                                0                0  \n",
       "\n",
       "[24100 rows x 49 columns]"
      ]
     },
     "execution_count": 178,
     "metadata": {},
     "output_type": "execute_result"
    }
   ],
   "source": [
    "train_final"
   ]
  },
  {
   "cell_type": "code",
   "execution_count": 184,
   "metadata": {
    "ExecuteTime": {
     "end_time": "2021-04-22T15:16:42.528154Z",
     "start_time": "2021-04-22T15:16:40.265099Z"
    }
   },
   "outputs": [
    {
     "name": "stdout",
     "output_type": "stream",
     "text": [
      "FOLD 0 : logloss = 0.8594990911416326\n",
      "FOLD 1 : logloss = 0.8549743767972457\n",
      "FOLD 2 : logloss = 0.8532603780877436\n",
      "FOLD 3 : logloss = 0.8544368349629002\n",
      "FOLD 4 : logloss = 0.8603117874453107\n",
      "Mean logloss = 0.8564964936869666\n"
     ]
    }
   ],
   "source": [
    "from sklearn.model_selection import KFold, StratifiedKFold\n",
    "from sklearn.metrics import log_loss, confusion_matrix\n",
    "from sklearn.linear_model import LogisticRegression\n",
    "\n",
    "model = LogisticRegression()\n",
    "\n",
    "train_X = train_final.drop(labels=['credit', 'index'], axis=1)\n",
    "train_y = train_final['credit']\n",
    "test_X = test_final.drop(labels='index', axis=1)\n",
    "\n",
    "folds = StratifiedKFold(n_splits=5, shuffle=True, random_state=42)\n",
    "fold_val_losses = []\n",
    "sub = np.zeros((test_X.shape[0], 3))\n",
    "\n",
    "for n_fold, (train_index, val_index) in enumerate(folds.split(train_X, train_y)):\n",
    "    X_train, X_val = train_X.iloc[train_index], train_X.iloc[val_index]\n",
    "    y_train, y_val = train_y.iloc[train_index], train_y.iloc[val_index]\n",
    "                                                  \n",
    "    model.fit(X_train, y_train)\n",
    "    pred_prob = model.predict_proba(X_val)\n",
    "    \n",
    "    train_y_for_logloss = np.zeros((len(y_val), 3))\n",
    "    for row_idx, target in enumerate(y_val):\n",
    "        train_y_for_logloss[row_idx, int(target)] = 1\n",
    "                                                  \n",
    "    fold_val_loss = log_loss(train_y_for_logloss, pred_prob)\n",
    "    fold_val_losses.append(fold_val_loss)\n",
    "    print(f\"FOLD {n_fold} : logloss = {fold_val_loss}\")\n",
    "\n",
    "    sub += model.predict_proba(test_X) / folds.n_splits\n",
    "\n",
    "mean_fold_val_losses=np.mean(fold_val_losses)\n",
    "print(f'Mean logloss = {mean_fold_val_losses}')"
   ]
  },
  {
   "cell_type": "code",
   "execution_count": 189,
   "metadata": {
    "ExecuteTime": {
     "end_time": "2021-04-22T15:18:36.756512Z",
     "start_time": "2021-04-22T15:18:36.742492Z"
    }
   },
   "outputs": [
    {
     "data": {
      "text/plain": [
       "array([[   0,    6,  567],\n",
       "       [   0,   17, 1121],\n",
       "       [   0,    6, 3103]], dtype=int64)"
      ]
     },
     "execution_count": 189,
     "metadata": {},
     "output_type": "execute_result"
    }
   ],
   "source": [
    "# confusion matrix\n",
    "\n",
    "pred = model.predict(X_val)\n",
    "confusion_matrix(y_val, pred)"
   ]
  },
  {
   "cell_type": "markdown",
   "metadata": {},
   "source": [
    "거의 다 label=2 로 예측하는듯! imbalance로 접근해보자"
   ]
  },
  {
   "cell_type": "markdown",
   "metadata": {},
   "source": [
    "이번에는 logistic에 있는 weight기능을 이용해보자\n",
    "- 결론 : 너무 반대의 결과로 간다."
   ]
  },
  {
   "cell_type": "code",
   "execution_count": 196,
   "metadata": {
    "ExecuteTime": {
     "end_time": "2021-04-22T15:23:21.501890Z",
     "start_time": "2021-04-22T15:23:21.487841Z"
    }
   },
   "outputs": [
    {
     "data": {
      "text/plain": [
       "2.0    0.644938\n",
       "1.0    0.236183\n",
       "0.0    0.118880\n",
       "Name: credit, dtype: float64"
      ]
     },
     "execution_count": 196,
     "metadata": {},
     "output_type": "execute_result"
    }
   ],
   "source": [
    "train_final['credit'].value_counts() / len(train_final)"
   ]
  },
  {
   "cell_type": "code",
   "execution_count": 219,
   "metadata": {
    "ExecuteTime": {
     "end_time": "2021-04-22T15:26:57.396964Z",
     "start_time": "2021-04-22T15:26:57.382965Z"
    }
   },
   "outputs": [],
   "source": [
    "weight = {0.0 : 2,\n",
    "          1.0 : 1.8,\n",
    "          2.0 : 1}"
   ]
  },
  {
   "cell_type": "code",
   "execution_count": 220,
   "metadata": {
    "ExecuteTime": {
     "end_time": "2021-04-22T15:26:59.784442Z",
     "start_time": "2021-04-22T15:26:57.554092Z"
    }
   },
   "outputs": [
    {
     "name": "stdout",
     "output_type": "stream",
     "text": [
      "FOLD 0 : logloss = 0.9064267895037893\n",
      "FOLD 1 : logloss = 0.8987001104783673\n",
      "FOLD 2 : logloss = 0.8986104558006724\n",
      "FOLD 3 : logloss = 0.9001652779121749\n",
      "FOLD 4 : logloss = 0.905894222766759\n",
      "Mean logloss = 0.9019593712923527\n"
     ]
    }
   ],
   "source": [
    "from sklearn.model_selection import KFold, StratifiedKFold\n",
    "from sklearn.metrics import log_loss, confusion_matrix\n",
    "from sklearn.linear_model import LogisticRegression\n",
    "\n",
    "model = LogisticRegression(class_weight=weight)\n",
    "\n",
    "train_X = train_final.drop(labels=['credit', 'index'], axis=1)\n",
    "train_y = train_final['credit']\n",
    "test_X = test_final.drop(labels='index', axis=1)\n",
    "\n",
    "folds = StratifiedKFold(n_splits=5, shuffle=True, random_state=42)\n",
    "fold_val_losses = []\n",
    "sub = np.zeros((test_X.shape[0], 3))\n",
    "\n",
    "for n_fold, (train_index, val_index) in enumerate(folds.split(train_X, train_y)):\n",
    "    X_train, X_val = train_X.iloc[train_index], train_X.iloc[val_index]\n",
    "    y_train, y_val = train_y.iloc[train_index], train_y.iloc[val_index]\n",
    "                                                  \n",
    "    model.fit(X_train, y_train)\n",
    "    pred_prob = model.predict_proba(X_val)\n",
    "    \n",
    "    train_y_for_logloss = np.zeros((len(y_val), 3))\n",
    "    for row_idx, target in enumerate(y_val):\n",
    "        train_y_for_logloss[row_idx, int(target)] = 1\n",
    "                                                  \n",
    "    fold_val_loss = log_loss(train_y_for_logloss, pred_prob)\n",
    "    fold_val_losses.append(fold_val_loss)\n",
    "    print(f\"FOLD {n_fold} : logloss = {fold_val_loss}\")\n",
    "\n",
    "    sub += model.predict_proba(test_X) / folds.n_splits\n",
    "\n",
    "mean_fold_val_losses=np.mean(fold_val_losses)\n",
    "print(f'Mean logloss = {mean_fold_val_losses}')"
   ]
  },
  {
   "cell_type": "code",
   "execution_count": 221,
   "metadata": {
    "ExecuteTime": {
     "end_time": "2021-04-22T15:26:59.799446Z",
     "start_time": "2021-04-22T15:26:59.785446Z"
    }
   },
   "outputs": [
    {
     "data": {
      "text/plain": [
       "array([[   0,  139,  434],\n",
       "       [   0,  407,  731],\n",
       "       [   1,  460, 2648]], dtype=int64)"
      ]
     },
     "execution_count": 221,
     "metadata": {},
     "output_type": "execute_result"
    }
   ],
   "source": [
    "# confusion matrix\n",
    "\n",
    "pred = model.predict(X_val)\n",
    "confusion_matrix(y_val, pred)"
   ]
  },
  {
   "cell_type": "code",
   "execution_count": 225,
   "metadata": {
    "ExecuteTime": {
     "end_time": "2021-04-22T15:27:43.463048Z",
     "start_time": "2021-04-22T15:27:43.448537Z"
    }
   },
   "outputs": [],
   "source": [
    "submission[['0','1','2']] = sub"
   ]
  },
  {
   "cell_type": "code",
   "execution_count": 227,
   "metadata": {
    "ExecuteTime": {
     "end_time": "2021-04-22T15:28:40.689046Z",
     "start_time": "2021-04-22T15:28:40.619695Z"
    }
   },
   "outputs": [],
   "source": [
    "submission.to_csv('sub/Logistic_weight[2, 1.8, 1].csv', index=False)"
   ]
  }
 ],
 "metadata": {
  "kernelspec": {
   "display_name": "Python 3",
   "language": "python",
   "name": "python3"
  },
  "language_info": {
   "codemirror_mode": {
    "name": "ipython",
    "version": 3
   },
   "file_extension": ".py",
   "mimetype": "text/x-python",
   "name": "python",
   "nbconvert_exporter": "python",
   "pygments_lexer": "ipython3",
   "version": "3.8.3"
  }
 },
 "nbformat": 4,
 "nbformat_minor": 4
}

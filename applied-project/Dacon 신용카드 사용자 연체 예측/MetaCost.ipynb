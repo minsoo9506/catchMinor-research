{
 "cells": [
  {
   "cell_type": "code",
   "execution_count": 1,
   "metadata": {
    "ExecuteTime": {
     "end_time": "2021-05-16T05:29:48.713121Z",
     "start_time": "2021-05-16T05:29:45.505249Z"
    }
   },
   "outputs": [],
   "source": [
    "import warnings\n",
    "warnings.filterwarnings('ignore')\n",
    "import pandas as pd\n",
    "import numpy as np\n",
    "from lightgbm import LGBMClassifier\n",
    "from sklearn.model_selection import KFold, StratifiedKFold\n",
    "from sklearn.metrics import log_loss, confusion_matrix"
   ]
  },
  {
   "cell_type": "code",
   "execution_count": 2,
   "metadata": {
    "ExecuteTime": {
     "end_time": "2021-05-16T05:29:52.406895Z",
     "start_time": "2021-05-16T05:29:52.319896Z"
    }
   },
   "outputs": [],
   "source": [
    "train = pd.read_csv('data/train.csv')\n",
    "test = pd.read_csv('data/test.csv')\n",
    "submission = pd.read_csv('data/sample_submission.csv')"
   ]
  },
  {
   "cell_type": "code",
   "execution_count": 3,
   "metadata": {
    "ExecuteTime": {
     "end_time": "2021-05-16T05:31:06.529594Z",
     "start_time": "2021-05-16T05:31:06.396344Z"
    }
   },
   "outputs": [],
   "source": [
    "cols = ['gender', 'car', 'reality', 'child_num', 'income_total',\n",
    "       'income_type', 'edu_type', 'family_type', 'house_type', 'DAYS_BIRTH',\n",
    "       'DAYS_EMPLOYED', 'FLAG_MOBIL', 'work_phone', 'phone', 'email',\n",
    "       'occyp_type', 'family_size', 'begin_month']\n",
    "train.drop_duplicates(cols, inplace=True)\n",
    "\n",
    "train['DAYS_BIRTH'] = - round(train['DAYS_BIRTH'] / 365)\n",
    "test['DAYS_BIRTH'] = - round(test['DAYS_BIRTH'] / 365)\n",
    "\n",
    "train['DAYS_EMPLOYED'] = - (train['DAYS_EMPLOYED'] / 365)\n",
    "train.loc[train['DAYS_EMPLOYED'] < 0, 'DAYS_EMPLOYED'] = 0\n",
    "test['DAYS_EMPLOYED'] = - (test['DAYS_EMPLOYED'] / 365)\n",
    "test.loc[test['DAYS_EMPLOYED'] < 0, 'DAYS_EMPLOYED'] = 0\n",
    "\n",
    "# 일단 None으로 하고 나중에 더 fancy한 imputation 꼭 해야할듯\n",
    "train['occyp_type'].fillna('none', inplace=True)\n",
    "test['occyp_type'].fillna('none', inplace=True)\n",
    "\n",
    "train = train.loc[train['child_num'] < 10, :]\n",
    "\n",
    "categoric_cols = ['gender','car','reality',\n",
    "                 'income_type', 'edu_type', 'family_type',\n",
    "                 'house_type', 'FLAG_MOBIL', 'work_phone',\n",
    "                 'phone', 'email', 'occyp_type']\n",
    "numeric_cols = ['child_num', 'income_total', 'DAYS_BIRTH', 'DAYS_EMPLOYED', 'family_size', 'begin_month']\n",
    "\n",
    "train_OH = pd.get_dummies(train, columns=categoric_cols, drop_first=True)\n",
    "test_OH = pd.get_dummies(test, columns=categoric_cols, drop_first=True)\n",
    "\n",
    "from sklearn.preprocessing import StandardScaler\n",
    "\n",
    "scaler = StandardScaler()\n",
    "scaler.fit(train_OH[numeric_cols])\n",
    "train_OH_scaled = scaler.transform(train_OH[numeric_cols])\n",
    "test_OH_scaled = scaler.transform(test_OH[numeric_cols])\n",
    "\n",
    "train_final = train_OH.copy()\n",
    "test_final = test_OH.copy()\n",
    "\n",
    "train_final[numeric_cols] = train_OH_scaled\n",
    "test_final[numeric_cols] = test_OH_scaled"
   ]
  },
  {
   "cell_type": "markdown",
   "metadata": {},
   "source": [
    "# Relabeling\n",
    "- 기존 MetaCost와 약간은 다르게 진행"
   ]
  },
  {
   "cell_type": "code",
   "execution_count": 14,
   "metadata": {
    "ExecuteTime": {
     "end_time": "2021-05-16T05:50:03.354634Z",
     "start_time": "2021-05-16T05:50:03.345636Z"
    }
   },
   "outputs": [
    {
     "data": {
      "text/plain": [
       "2.0    15543\n",
       "1.0     5692\n",
       "0.0     2865\n",
       "Name: credit, dtype: int64"
      ]
     },
     "execution_count": 14,
     "metadata": {},
     "output_type": "execute_result"
    }
   ],
   "source": [
    "train_y.value_counts()"
   ]
  },
  {
   "cell_type": "code",
   "execution_count": 54,
   "metadata": {
    "ExecuteTime": {
     "end_time": "2021-05-16T06:30:07.622141Z",
     "start_time": "2021-05-16T06:28:54.460659Z"
    }
   },
   "outputs": [
    {
     "name": "stdout",
     "output_type": "stream",
     "text": [
      "[200]\ttraining's multi_logloss: 0.581584\n",
      "[400]\ttraining's multi_logloss: 0.474093\n",
      "[600]\ttraining's multi_logloss: 0.397332\n",
      "[800]\ttraining's multi_logloss: 0.337098\n",
      "[1000]\ttraining's multi_logloss: 0.286579\n",
      "[1200]\ttraining's multi_logloss: 0.248434\n",
      "[1400]\ttraining's multi_logloss: 0.215747\n",
      "[1600]\ttraining's multi_logloss: 0.188166\n",
      "[1800]\ttraining's multi_logloss: 0.16432\n",
      "[2000]\ttraining's multi_logloss: 0.143884\n",
      "-------------------------------------------------\n",
      "[200]\ttraining's multi_logloss: 0.581584\n",
      "[400]\ttraining's multi_logloss: 0.474093\n",
      "[600]\ttraining's multi_logloss: 0.397332\n",
      "[800]\ttraining's multi_logloss: 0.337098\n",
      "[1000]\ttraining's multi_logloss: 0.286579\n",
      "[1200]\ttraining's multi_logloss: 0.248434\n",
      "[1400]\ttraining's multi_logloss: 0.215747\n",
      "[1600]\ttraining's multi_logloss: 0.188166\n",
      "[1800]\ttraining's multi_logloss: 0.16432\n",
      "[2000]\ttraining's multi_logloss: 0.143884\n",
      "-------------------------------------------------\n",
      "[200]\ttraining's multi_logloss: 0.581584\n",
      "[400]\ttraining's multi_logloss: 0.474093\n",
      "[600]\ttraining's multi_logloss: 0.397332\n",
      "[800]\ttraining's multi_logloss: 0.337098\n",
      "[1000]\ttraining's multi_logloss: 0.286579\n",
      "[1200]\ttraining's multi_logloss: 0.248434\n",
      "[1400]\ttraining's multi_logloss: 0.215747\n",
      "[1600]\ttraining's multi_logloss: 0.188166\n",
      "[1800]\ttraining's multi_logloss: 0.16432\n",
      "[2000]\ttraining's multi_logloss: 0.143884\n",
      "-------------------------------------------------\n",
      "[200]\ttraining's multi_logloss: 0.641858\n",
      "[400]\ttraining's multi_logloss: 0.516042\n",
      "[600]\ttraining's multi_logloss: 0.429152\n",
      "[800]\ttraining's multi_logloss: 0.359527\n",
      "[1000]\ttraining's multi_logloss: 0.306141\n",
      "[1200]\ttraining's multi_logloss: 0.263157\n",
      "[1400]\ttraining's multi_logloss: 0.227151\n",
      "[1600]\ttraining's multi_logloss: 0.197957\n",
      "[1800]\ttraining's multi_logloss: 0.173293\n",
      "[2000]\ttraining's multi_logloss: 0.151202\n",
      "-------------------------------------------------\n",
      "[200]\ttraining's multi_logloss: 0.641858\n",
      "[400]\ttraining's multi_logloss: 0.516042\n",
      "[600]\ttraining's multi_logloss: 0.429152\n",
      "[800]\ttraining's multi_logloss: 0.359527\n",
      "[1000]\ttraining's multi_logloss: 0.306141\n",
      "[1200]\ttraining's multi_logloss: 0.263157\n",
      "[1400]\ttraining's multi_logloss: 0.227151\n",
      "[1600]\ttraining's multi_logloss: 0.197957\n",
      "[1800]\ttraining's multi_logloss: 0.173293\n",
      "[2000]\ttraining's multi_logloss: 0.151202\n",
      "-------------------------------------------------\n",
      "[200]\ttraining's multi_logloss: 0.706455\n",
      "[400]\ttraining's multi_logloss: 0.566664\n",
      "[600]\ttraining's multi_logloss: 0.467104\n",
      "[800]\ttraining's multi_logloss: 0.39148\n",
      "[1000]\ttraining's multi_logloss: 0.332433\n",
      "[1200]\ttraining's multi_logloss: 0.283571\n",
      "[1400]\ttraining's multi_logloss: 0.244394\n",
      "[1600]\ttraining's multi_logloss: 0.212351\n",
      "[1800]\ttraining's multi_logloss: 0.185696\n",
      "[2000]\ttraining's multi_logloss: 0.162999\n",
      "-------------------------------------------------\n",
      "[200]\ttraining's multi_logloss: 0.706455\n",
      "[400]\ttraining's multi_logloss: 0.566664\n",
      "[600]\ttraining's multi_logloss: 0.467104\n",
      "[800]\ttraining's multi_logloss: 0.39148\n",
      "[1000]\ttraining's multi_logloss: 0.332433\n",
      "[1200]\ttraining's multi_logloss: 0.283571\n",
      "[1400]\ttraining's multi_logloss: 0.244394\n",
      "[1600]\ttraining's multi_logloss: 0.212351\n",
      "[1800]\ttraining's multi_logloss: 0.185696\n",
      "[2000]\ttraining's multi_logloss: 0.162999\n",
      "-------------------------------------------------\n",
      "[200]\ttraining's multi_logloss: 0.706455\n",
      "[400]\ttraining's multi_logloss: 0.566664\n",
      "[600]\ttraining's multi_logloss: 0.467104\n",
      "[800]\ttraining's multi_logloss: 0.39148\n",
      "[1000]\ttraining's multi_logloss: 0.332433\n",
      "[1200]\ttraining's multi_logloss: 0.283571\n",
      "[1400]\ttraining's multi_logloss: 0.244394\n",
      "[1600]\ttraining's multi_logloss: 0.212351\n",
      "[1800]\ttraining's multi_logloss: 0.185696\n",
      "[2000]\ttraining's multi_logloss: 0.162999\n",
      "-------------------------------------------------\n",
      "[200]\ttraining's multi_logloss: 0.712858\n",
      "[400]\ttraining's multi_logloss: 0.56621\n",
      "[600]\ttraining's multi_logloss: 0.46363\n",
      "[800]\ttraining's multi_logloss: 0.386527\n",
      "[1000]\ttraining's multi_logloss: 0.327332\n",
      "[1200]\ttraining's multi_logloss: 0.279664\n",
      "[1400]\ttraining's multi_logloss: 0.241838\n",
      "[1600]\ttraining's multi_logloss: 0.211007\n",
      "[1800]\ttraining's multi_logloss: 0.183005\n",
      "[2000]\ttraining's multi_logloss: 0.159151\n",
      "-------------------------------------------------\n",
      "[200]\ttraining's multi_logloss: 0.712858\n",
      "[400]\ttraining's multi_logloss: 0.56621\n",
      "[600]\ttraining's multi_logloss: 0.46363\n",
      "[800]\ttraining's multi_logloss: 0.386527\n",
      "[1000]\ttraining's multi_logloss: 0.327332\n",
      "[1200]\ttraining's multi_logloss: 0.279664\n",
      "[1400]\ttraining's multi_logloss: 0.241838\n",
      "[1600]\ttraining's multi_logloss: 0.211007\n",
      "[1800]\ttraining's multi_logloss: 0.183005\n",
      "[2000]\ttraining's multi_logloss: 0.159151\n",
      "-------------------------------------------------\n"
     ]
    }
   ],
   "source": [
    "train_X = train_final.drop(labels=['credit', 'index'], axis=1)\n",
    "train_y = train_final['credit']\n",
    "\n",
    "L = 10 # num of models\n",
    "relabeld_train_y =  np.zeros((train_y.shape[0], 3)) \n",
    "\n",
    "sample_weight = np.array([1]*len(train_y))\n",
    "\n",
    "for i in range(L):\n",
    "    lgb = LGBMClassifier(n_estimators=2000)\n",
    "    \n",
    "    sample_weight[np.where(train_y==1.0)] = 1 + 0.2*i\n",
    "    sample_weight[np.where(train_y==0.0)] = 1 + 0.4*i\n",
    "    \n",
    "    lgb.fit(train_X, train_y,\n",
    "            verbose=200, \n",
    "            eval_set=[(train_X, train_y)],\n",
    "            sample_weight=sample_weight)\n",
    "    relabeld_train_y += lgb.predict_proba(train_X) / L\n",
    "    print('-------------------------------------------------')"
   ]
  },
  {
   "cell_type": "code",
   "execution_count": 55,
   "metadata": {
    "ExecuteTime": {
     "end_time": "2021-05-16T06:30:07.637142Z",
     "start_time": "2021-05-16T06:30:07.624142Z"
    }
   },
   "outputs": [
    {
     "data": {
      "text/plain": [
       "array([[0.05193172, 0.75973248, 0.1883358 ],\n",
       "       [0.24692439, 0.57617257, 0.17690304],\n",
       "       [0.01679196, 0.00626419, 0.97694385]])"
      ]
     },
     "execution_count": 55,
     "metadata": {},
     "output_type": "execute_result"
    }
   ],
   "source": [
    "relabeld_train_y[:3]"
   ]
  },
  {
   "cell_type": "code",
   "execution_count": 56,
   "metadata": {
    "ExecuteTime": {
     "end_time": "2021-05-16T06:30:07.652142Z",
     "start_time": "2021-05-16T06:30:07.639200Z"
    }
   },
   "outputs": [],
   "source": [
    "relabeled_target = np.argmax(relabeld_train_y, axis=1)"
   ]
  },
  {
   "cell_type": "code",
   "execution_count": 57,
   "metadata": {
    "ExecuteTime": {
     "end_time": "2021-05-16T06:30:07.667141Z",
     "start_time": "2021-05-16T06:30:07.654143Z"
    }
   },
   "outputs": [
    {
     "data": {
      "text/plain": [
       "2    15596\n",
       "1     5620\n",
       "0     2884\n",
       "dtype: int64"
      ]
     },
     "execution_count": 57,
     "metadata": {},
     "output_type": "execute_result"
    }
   ],
   "source": [
    "pd.Series(relabeled_target).value_counts()"
   ]
  },
  {
   "cell_type": "markdown",
   "metadata": {},
   "source": [
    "# train with relabeled target"
   ]
  },
  {
   "cell_type": "code",
   "execution_count": 51,
   "metadata": {
    "ExecuteTime": {
     "end_time": "2021-05-16T06:27:29.172626Z",
     "start_time": "2021-05-16T06:27:20.543971Z"
    }
   },
   "outputs": [
    {
     "name": "stdout",
     "output_type": "stream",
     "text": [
      "Training until validation scores don't improve for 400 rounds\n",
      "[200]\ttraining's multi_logloss: 0.071963\tvalid_1's multi_logloss: 0.186712\n",
      "[400]\ttraining's multi_logloss: 0.0321441\tvalid_1's multi_logloss: 0.205058\n",
      "Early stopping, best iteration is:\n",
      "[164]\ttraining's multi_logloss: 0.0844565\tvalid_1's multi_logloss: 0.18594\n",
      "-------------------------------------------\n",
      "Training until validation scores don't improve for 400 rounds\n",
      "[200]\ttraining's multi_logloss: 0.0706168\tvalid_1's multi_logloss: 0.194518\n",
      "[400]\ttraining's multi_logloss: 0.0322412\tvalid_1's multi_logloss: 0.209338\n",
      "Early stopping, best iteration is:\n",
      "[160]\ttraining's multi_logloss: 0.0851187\tvalid_1's multi_logloss: 0.194382\n",
      "-------------------------------------------\n",
      "Training until validation scores don't improve for 400 rounds\n",
      "[200]\ttraining's multi_logloss: 0.0699552\tvalid_1's multi_logloss: 0.203137\n",
      "[400]\ttraining's multi_logloss: 0.0317007\tvalid_1's multi_logloss: 0.225326\n",
      "Early stopping, best iteration is:\n",
      "[138]\ttraining's multi_logloss: 0.0935882\tvalid_1's multi_logloss: 0.201799\n",
      "-------------------------------------------\n",
      "Training until validation scores don't improve for 400 rounds\n",
      "[200]\ttraining's multi_logloss: 0.0718181\tvalid_1's multi_logloss: 0.19131\n",
      "[400]\ttraining's multi_logloss: 0.0325854\tvalid_1's multi_logloss: 0.210349\n",
      "Early stopping, best iteration is:\n",
      "[167]\ttraining's multi_logloss: 0.082777\tvalid_1's multi_logloss: 0.190123\n",
      "-------------------------------------------\n",
      "Training until validation scores don't improve for 400 rounds\n",
      "[200]\ttraining's multi_logloss: 0.069027\tvalid_1's multi_logloss: 0.197142\n",
      "[400]\ttraining's multi_logloss: 0.0314527\tvalid_1's multi_logloss: 0.21618\n",
      "Early stopping, best iteration is:\n",
      "[146]\ttraining's multi_logloss: 0.0886848\tvalid_1's multi_logloss: 0.195645\n",
      "-------------------------------------------\n"
     ]
    }
   ],
   "source": [
    "lgb = LGBMClassifier(n_estimators=2000)\n",
    "\n",
    "train_X = train_final.drop(labels=['credit', 'index'], axis=1)\n",
    "train_y = pd.Series(relabeled_target)\n",
    "test_X = test_final.drop(labels='index', axis=1)\n",
    "\n",
    "folds = StratifiedKFold(n_splits=5, shuffle=True, random_state=42)\n",
    "fold_val_losses = []\n",
    "single_sub = np.zeros((test_X.shape[0], 3))\n",
    "\n",
    "for n_fold, (train_index, val_index) in enumerate(folds.split(train_X, train_y)):\n",
    "    X_train, X_val = train_X.iloc[train_index], train_X.iloc[val_index]\n",
    "    y_train, y_val = train_y.iloc[train_index], train_y.iloc[val_index]\n",
    "                                                  \n",
    "    lgb.fit(X_train, y_train, \n",
    "            eval_set=[(X_train, y_train), (X_val, y_val)], \n",
    "            early_stopping_rounds=400, verbose=200)\n",
    "\n",
    "    single_sub += lgb.predict_proba(test_X) / folds.n_splits\n",
    "    print('-------------------------------------------')"
   ]
  },
  {
   "cell_type": "code",
   "execution_count": 52,
   "metadata": {
    "ExecuteTime": {
     "end_time": "2021-05-16T06:27:29.187624Z",
     "start_time": "2021-05-16T06:27:29.174625Z"
    }
   },
   "outputs": [],
   "source": [
    "submission.iloc[:,[1,2,3]] = single_sub"
   ]
  },
  {
   "cell_type": "code",
   "execution_count": 53,
   "metadata": {
    "ExecuteTime": {
     "end_time": "2021-05-16T06:27:40.147981Z",
     "start_time": "2021-05-16T06:27:40.075867Z"
    }
   },
   "outputs": [],
   "source": [
    "submission.to_csv('sub/MetaCost_5fold_singleLGB.csv', index=False)"
   ]
  }
 ],
 "metadata": {
  "kernelspec": {
   "display_name": "Python 3",
   "language": "python",
   "name": "python3"
  },
  "language_info": {
   "codemirror_mode": {
    "name": "ipython",
    "version": 3
   },
   "file_extension": ".py",
   "mimetype": "text/x-python",
   "name": "python",
   "nbconvert_exporter": "python",
   "pygments_lexer": "ipython3",
   "version": "3.8.3"
  }
 },
 "nbformat": 4,
 "nbformat_minor": 4
}

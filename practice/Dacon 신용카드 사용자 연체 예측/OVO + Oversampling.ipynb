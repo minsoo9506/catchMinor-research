{
 "cells": [
  {
   "cell_type": "code",
   "execution_count": 1,
   "metadata": {
    "ExecuteTime": {
     "end_time": "2021-05-15T04:11:59.262534Z",
     "start_time": "2021-05-15T04:11:57.812443Z"
    }
   },
   "outputs": [],
   "source": [
    "import warnings\n",
    "warnings.filterwarnings('ignore')\n",
    "import pandas as pd\n",
    "import numpy as np\n",
    "import matplotlib.pyplot as plt\n",
    "import seaborn as sns"
   ]
  },
  {
   "cell_type": "code",
   "execution_count": 2,
   "metadata": {
    "ExecuteTime": {
     "end_time": "2021-05-15T04:11:59.382535Z",
     "start_time": "2021-05-15T04:11:59.263535Z"
    }
   },
   "outputs": [],
   "source": [
    "train = pd.read_csv('data/train.csv')\n",
    "test = pd.read_csv('data/test.csv')\n",
    "submission = pd.read_csv('data/sample_submission.csv')\n",
    "cols = ['gender', 'car', 'reality', 'child_num', 'income_total',\n",
    "       'income_type', 'edu_type', 'family_type', 'house_type', 'DAYS_BIRTH',\n",
    "       'DAYS_EMPLOYED', 'FLAG_MOBIL', 'work_phone', 'phone', 'email',\n",
    "       'occyp_type', 'family_size', 'begin_month']\n",
    "train.drop_duplicates(cols, inplace=True)\n",
    "\n",
    "train['DAYS_BIRTH'] = - round(train['DAYS_BIRTH'] / 365)\n",
    "\n",
    "test['DAYS_BIRTH'] = - round(test['DAYS_BIRTH'] / 365)\n",
    "\n",
    "train['DAYS_EMPLOYED'] = - (train['DAYS_EMPLOYED'] / 365)\n",
    "train.loc[train['DAYS_EMPLOYED'] < 0, 'DAYS_EMPLOYED'] = 0\n",
    "\n",
    "test['DAYS_EMPLOYED'] = - (test['DAYS_EMPLOYED'] / 365)\n",
    "test.loc[test['DAYS_EMPLOYED'] < 0, 'DAYS_EMPLOYED'] = 0\n",
    "\n",
    "# 일단 None으로 하고 나중에 더 fancy한 imputation 꼭 해야할듯\n",
    "train['occyp_type'].fillna('none', inplace=True)\n",
    "test['occyp_type'].fillna('none', inplace=True)"
   ]
  },
  {
   "cell_type": "code",
   "execution_count": 3,
   "metadata": {
    "ExecuteTime": {
     "end_time": "2021-05-15T04:12:00.117621Z",
     "start_time": "2021-05-15T04:11:59.383535Z"
    }
   },
   "outputs": [],
   "source": [
    "categoric_cols = ['gender','car','reality',\n",
    "                 'income_type', 'edu_type', 'family_type',\n",
    "                 'house_type', 'FLAG_MOBIL', 'work_phone',\n",
    "                 'phone', 'email', 'occyp_type']\n",
    "numeric_cols = ['child_num', 'income_total', 'DAYS_BIRTH', 'DAYS_EMPLOYED', 'family_size', 'begin_month']\n",
    "\n",
    "train_OH = pd.get_dummies(train, columns=categoric_cols, drop_first=True)\n",
    "test_OH = pd.get_dummies(test, columns=categoric_cols, drop_first=True)\n",
    "\n",
    "from sklearn.preprocessing import StandardScaler\n",
    "\n",
    "scaler = StandardScaler()\n",
    "scaler.fit(train_OH[numeric_cols])\n",
    "train_OH_scaled = scaler.transform(train_OH[numeric_cols])\n",
    "test_OH_scaled = scaler.transform(test_OH[numeric_cols])\n",
    "\n",
    "train_final = train_OH.copy()\n",
    "test_final = test_OH.copy()\n",
    "\n",
    "train_final[numeric_cols] = train_OH_scaled\n",
    "test_final[numeric_cols] = test_OH_scaled"
   ]
  },
  {
   "cell_type": "code",
   "execution_count": 4,
   "metadata": {
    "ExecuteTime": {
     "end_time": "2021-05-15T04:12:00.147622Z",
     "start_time": "2021-05-15T04:12:00.118535Z"
    }
   },
   "outputs": [
    {
     "data": {
      "text/html": [
       "<div>\n",
       "<style scoped>\n",
       "    .dataframe tbody tr th:only-of-type {\n",
       "        vertical-align: middle;\n",
       "    }\n",
       "\n",
       "    .dataframe tbody tr th {\n",
       "        vertical-align: top;\n",
       "    }\n",
       "\n",
       "    .dataframe thead th {\n",
       "        text-align: right;\n",
       "    }\n",
       "</style>\n",
       "<table border=\"1\" class=\"dataframe\">\n",
       "  <thead>\n",
       "    <tr style=\"text-align: right;\">\n",
       "      <th></th>\n",
       "      <th>index</th>\n",
       "      <th>child_num</th>\n",
       "      <th>income_total</th>\n",
       "      <th>DAYS_BIRTH</th>\n",
       "      <th>DAYS_EMPLOYED</th>\n",
       "      <th>family_size</th>\n",
       "      <th>begin_month</th>\n",
       "      <th>credit</th>\n",
       "      <th>gender_M</th>\n",
       "      <th>car_Y</th>\n",
       "      <th>...</th>\n",
       "      <th>occyp_type_Low-skill Laborers</th>\n",
       "      <th>occyp_type_Managers</th>\n",
       "      <th>occyp_type_Medicine staff</th>\n",
       "      <th>occyp_type_Private service staff</th>\n",
       "      <th>occyp_type_Realty agents</th>\n",
       "      <th>occyp_type_Sales staff</th>\n",
       "      <th>occyp_type_Secretaries</th>\n",
       "      <th>occyp_type_Security staff</th>\n",
       "      <th>occyp_type_Waiters/barmen staff</th>\n",
       "      <th>occyp_type_none</th>\n",
       "    </tr>\n",
       "  </thead>\n",
       "  <tbody>\n",
       "    <tr>\n",
       "      <th>0</th>\n",
       "      <td>0</td>\n",
       "      <td>-0.574664</td>\n",
       "      <td>0.156343</td>\n",
       "      <td>-0.495745</td>\n",
       "      <td>1.063085</td>\n",
       "      <td>-0.217409</td>\n",
       "      <td>1.212132</td>\n",
       "      <td>1.0</td>\n",
       "      <td>0</td>\n",
       "      <td>0</td>\n",
       "      <td>...</td>\n",
       "      <td>0</td>\n",
       "      <td>0</td>\n",
       "      <td>0</td>\n",
       "      <td>0</td>\n",
       "      <td>0</td>\n",
       "      <td>0</td>\n",
       "      <td>0</td>\n",
       "      <td>0</td>\n",
       "      <td>0</td>\n",
       "      <td>1</td>\n",
       "    </tr>\n",
       "    <tr>\n",
       "      <th>1</th>\n",
       "      <td>1</td>\n",
       "      <td>0.756974</td>\n",
       "      <td>0.601677</td>\n",
       "      <td>-1.102161</td>\n",
       "      <td>-0.275751</td>\n",
       "      <td>0.870718</td>\n",
       "      <td>1.272625</td>\n",
       "      <td>1.0</td>\n",
       "      <td>0</td>\n",
       "      <td>0</td>\n",
       "      <td>...</td>\n",
       "      <td>0</td>\n",
       "      <td>0</td>\n",
       "      <td>0</td>\n",
       "      <td>0</td>\n",
       "      <td>0</td>\n",
       "      <td>0</td>\n",
       "      <td>0</td>\n",
       "      <td>0</td>\n",
       "      <td>0</td>\n",
       "      <td>0</td>\n",
       "    </tr>\n",
       "    <tr>\n",
       "      <th>2</th>\n",
       "      <td>2</td>\n",
       "      <td>-0.574664</td>\n",
       "      <td>2.605679</td>\n",
       "      <td>0.717088</td>\n",
       "      <td>0.946904</td>\n",
       "      <td>-0.217409</td>\n",
       "      <td>0.244241</td>\n",
       "      <td>2.0</td>\n",
       "      <td>1</td>\n",
       "      <td>1</td>\n",
       "      <td>...</td>\n",
       "      <td>0</td>\n",
       "      <td>1</td>\n",
       "      <td>0</td>\n",
       "      <td>0</td>\n",
       "      <td>0</td>\n",
       "      <td>0</td>\n",
       "      <td>0</td>\n",
       "      <td>0</td>\n",
       "      <td>0</td>\n",
       "      <td>0</td>\n",
       "    </tr>\n",
       "    <tr>\n",
       "      <th>3</th>\n",
       "      <td>3</td>\n",
       "      <td>-0.574664</td>\n",
       "      <td>0.156343</td>\n",
       "      <td>-0.235852</td>\n",
       "      <td>-0.042543</td>\n",
       "      <td>-0.217409</td>\n",
       "      <td>-0.663156</td>\n",
       "      <td>0.0</td>\n",
       "      <td>0</td>\n",
       "      <td>0</td>\n",
       "      <td>...</td>\n",
       "      <td>0</td>\n",
       "      <td>0</td>\n",
       "      <td>0</td>\n",
       "      <td>0</td>\n",
       "      <td>0</td>\n",
       "      <td>1</td>\n",
       "      <td>0</td>\n",
       "      <td>0</td>\n",
       "      <td>0</td>\n",
       "      <td>0</td>\n",
       "    </tr>\n",
       "    <tr>\n",
       "      <th>4</th>\n",
       "      <td>4</td>\n",
       "      <td>-0.574664</td>\n",
       "      <td>-0.288991</td>\n",
       "      <td>-0.235852</td>\n",
       "      <td>-0.037051</td>\n",
       "      <td>-0.217409</td>\n",
       "      <td>0.002269</td>\n",
       "      <td>2.0</td>\n",
       "      <td>0</td>\n",
       "      <td>1</td>\n",
       "      <td>...</td>\n",
       "      <td>0</td>\n",
       "      <td>1</td>\n",
       "      <td>0</td>\n",
       "      <td>0</td>\n",
       "      <td>0</td>\n",
       "      <td>0</td>\n",
       "      <td>0</td>\n",
       "      <td>0</td>\n",
       "      <td>0</td>\n",
       "      <td>0</td>\n",
       "    </tr>\n",
       "  </tbody>\n",
       "</table>\n",
       "<p>5 rows × 49 columns</p>\n",
       "</div>"
      ],
      "text/plain": [
       "   index  child_num  income_total  DAYS_BIRTH  DAYS_EMPLOYED  family_size  \\\n",
       "0      0  -0.574664      0.156343   -0.495745       1.063085    -0.217409   \n",
       "1      1   0.756974      0.601677   -1.102161      -0.275751     0.870718   \n",
       "2      2  -0.574664      2.605679    0.717088       0.946904    -0.217409   \n",
       "3      3  -0.574664      0.156343   -0.235852      -0.042543    -0.217409   \n",
       "4      4  -0.574664     -0.288991   -0.235852      -0.037051    -0.217409   \n",
       "\n",
       "   begin_month  credit  gender_M  car_Y  ...  occyp_type_Low-skill Laborers  \\\n",
       "0     1.212132     1.0         0      0  ...                              0   \n",
       "1     1.272625     1.0         0      0  ...                              0   \n",
       "2     0.244241     2.0         1      1  ...                              0   \n",
       "3    -0.663156     0.0         0      0  ...                              0   \n",
       "4     0.002269     2.0         0      1  ...                              0   \n",
       "\n",
       "   occyp_type_Managers  occyp_type_Medicine staff  \\\n",
       "0                    0                          0   \n",
       "1                    0                          0   \n",
       "2                    1                          0   \n",
       "3                    0                          0   \n",
       "4                    1                          0   \n",
       "\n",
       "   occyp_type_Private service staff  occyp_type_Realty agents  \\\n",
       "0                                 0                         0   \n",
       "1                                 0                         0   \n",
       "2                                 0                         0   \n",
       "3                                 0                         0   \n",
       "4                                 0                         0   \n",
       "\n",
       "   occyp_type_Sales staff  occyp_type_Secretaries  occyp_type_Security staff  \\\n",
       "0                       0                       0                          0   \n",
       "1                       0                       0                          0   \n",
       "2                       0                       0                          0   \n",
       "3                       1                       0                          0   \n",
       "4                       0                       0                          0   \n",
       "\n",
       "   occyp_type_Waiters/barmen staff  occyp_type_none  \n",
       "0                                0                1  \n",
       "1                                0                0  \n",
       "2                                0                0  \n",
       "3                                0                0  \n",
       "4                                0                0  \n",
       "\n",
       "[5 rows x 49 columns]"
      ]
     },
     "execution_count": 4,
     "metadata": {},
     "output_type": "execute_result"
    }
   ],
   "source": [
    "train_final.head()"
   ]
  },
  {
   "cell_type": "code",
   "execution_count": 5,
   "metadata": {
    "ExecuteTime": {
     "end_time": "2021-05-15T04:12:00.162535Z",
     "start_time": "2021-05-15T04:12:00.148536Z"
    }
   },
   "outputs": [
    {
     "data": {
      "text/plain": [
       "2.0    15547\n",
       "1.0     5692\n",
       "0.0     2865\n",
       "Name: credit, dtype: int64"
      ]
     },
     "execution_count": 5,
     "metadata": {},
     "output_type": "execute_result"
    }
   ],
   "source": [
    "train_final['credit'].value_counts()"
   ]
  },
  {
   "cell_type": "markdown",
   "metadata": {},
   "source": [
    "# OVO"
   ]
  },
  {
   "cell_type": "code",
   "execution_count": 6,
   "metadata": {
    "ExecuteTime": {
     "end_time": "2021-05-15T04:12:02.204611Z",
     "start_time": "2021-05-15T04:12:02.075197Z"
    }
   },
   "outputs": [],
   "source": [
    "from sklearn.model_selection import KFold, StratifiedKFold\n",
    "from sklearn.metrics import log_loss, confusion_matrix\n",
    "from sklearn.linear_model import LogisticRegression"
   ]
  },
  {
   "cell_type": "code",
   "execution_count": 7,
   "metadata": {
    "ExecuteTime": {
     "end_time": "2021-05-15T04:12:05.825848Z",
     "start_time": "2021-05-15T04:12:04.497131Z"
    }
   },
   "outputs": [
    {
     "name": "stdout",
     "output_type": "stream",
     "text": [
      "FOLD 0 : logloss = 0.630\n",
      "FOLD 1 : logloss = 0.631\n",
      "FOLD 2 : logloss = 0.635\n",
      "FOLD 3 : logloss = 0.636\n",
      "FOLD 4 : logloss = 0.637\n",
      "---------------------------------------------------------\n",
      "OVO with class : [0.0, 1.0], Mean logloss = 0.634\n",
      "---------------------------------------------------------\n",
      "FOLD 0 : logloss = 0.427\n",
      "FOLD 1 : logloss = 0.426\n",
      "FOLD 2 : logloss = 0.429\n",
      "FOLD 3 : logloss = 0.429\n",
      "FOLD 4 : logloss = 0.433\n",
      "---------------------------------------------------------\n",
      "OVO with class : [0.0, 2.0], Mean logloss = 0.429\n",
      "---------------------------------------------------------\n",
      "FOLD 0 : logloss = 0.561\n",
      "FOLD 1 : logloss = 0.557\n",
      "FOLD 2 : logloss = 0.558\n",
      "FOLD 3 : logloss = 0.557\n",
      "FOLD 4 : logloss = 0.558\n",
      "---------------------------------------------------------\n",
      "OVO with class : [1.0, 2.0], Mean logloss = 0.558\n",
      "---------------------------------------------------------\n"
     ]
    }
   ],
   "source": [
    "model = LogisticRegression()\n",
    "models = []\n",
    "\n",
    "for c in [[0.0,1.0], [0.0,2.0], [1.0,2.0]]:\n",
    "    sub_train = train_final.loc[train_final['credit'].isin(c), :]\n",
    "    train_X = sub_train.drop(labels=['credit', 'index'], axis=1)\n",
    "    train_y = sub_train['credit']\n",
    "    \n",
    "    folds = StratifiedKFold(n_splits=5, shuffle=True, random_state=42)\n",
    "    fold_val_losses = []\n",
    "    # sub = np.zeros((test_X.shape[0], 3))\n",
    "    \n",
    "    for n_fold, (train_index, val_index) in enumerate(folds.split(train_X, train_y)):\n",
    "        X_train, X_val = train_X.iloc[train_index], train_X.iloc[val_index]\n",
    "        y_train, y_val = train_y.iloc[train_index], train_y.iloc[val_index]\n",
    "        \n",
    "        model.fit(X_train, y_train)\n",
    "        models.append(model)\n",
    "        pred_prob = model.predict_proba(X_val)\n",
    "\n",
    "        fold_val_loss = log_loss(y_val, pred_prob)\n",
    "        fold_val_losses.append(fold_val_loss)\n",
    "        print(f\"FOLD {n_fold} : logloss = {fold_val_loss:.3f}\")\n",
    "    \n",
    "    mean_fold_val_losses=np.mean(fold_val_losses)\n",
    "    print('---------------------------------------------------------')\n",
    "    print(f'OVO with class : {c}, Mean logloss = {mean_fold_val_losses:.3f}')\n",
    "    print('---------------------------------------------------------')"
   ]
  },
  {
   "cell_type": "markdown",
   "metadata": {},
   "source": [
    "# OVO + oversampling : SMOTE"
   ]
  },
  {
   "cell_type": "code",
   "execution_count": null,
   "metadata": {},
   "outputs": [],
   "source": [
    "from sklearn.model_selection import KFold, StratifiedKFold\n",
    "from sklearn.metrics import log_loss, confusion_matrix\n",
    "from sklearn.linear_model import LogisticRegression\n",
    "from imblearn.over_sampling import SMOTE "
   ]
  },
  {
   "cell_type": "code",
   "execution_count": 95,
   "metadata": {
    "ExecuteTime": {
     "end_time": "2021-05-01T13:30:52.106351Z",
     "start_time": "2021-05-01T13:30:46.922605Z"
    }
   },
   "outputs": [
    {
     "name": "stdout",
     "output_type": "stream",
     "text": [
      "FOLD 0 : logloss = 0.681\n",
      "FOLD 1 : logloss = 0.679\n",
      "FOLD 2 : logloss = 0.685\n",
      "FOLD 3 : logloss = 0.682\n",
      "FOLD 4 : logloss = 0.681\n",
      "---------------------------------------------------------\n",
      "SMOTE with class : [0.0, 1.0], Mean logloss = 0.681\n",
      "---------------------------------------------------------\n",
      "FOLD 0 : logloss = 0.608\n",
      "FOLD 1 : logloss = 0.608\n",
      "FOLD 2 : logloss = 0.617\n",
      "FOLD 3 : logloss = 0.606\n",
      "FOLD 4 : logloss = 0.630\n",
      "---------------------------------------------------------\n",
      "SMOTE with class : [0.0, 2.0], Mean logloss = 0.614\n",
      "---------------------------------------------------------\n",
      "FOLD 0 : logloss = 0.651\n",
      "FOLD 1 : logloss = 0.643\n",
      "FOLD 2 : logloss = 0.646\n",
      "FOLD 3 : logloss = 0.646\n",
      "FOLD 4 : logloss = 0.642\n",
      "---------------------------------------------------------\n",
      "SMOTE with class : [1.0, 2.0], Mean logloss = 0.646\n",
      "---------------------------------------------------------\n"
     ]
    }
   ],
   "source": [
    "model = LogisticRegression()\n",
    "models = []\n",
    "\n",
    "for c in [[0.0,1.0], [0.0,2.0], [1.0,2.0]]:\n",
    "    sub_train = train_final.loc[train_final['credit'].isin(c), :]\n",
    "    train_X = sub_train.drop(labels=['credit', 'index'], axis=1)\n",
    "    train_y = sub_train['credit']\n",
    "    \n",
    "    folds = StratifiedKFold(n_splits=5, shuffle=True, random_state=42)\n",
    "    fold_val_losses = []\n",
    "    # sub = np.zeros((test_X.shape[0], 3))\n",
    "    \n",
    "    for n_fold, (train_index, val_index) in enumerate(folds.split(train_X, train_y)):\n",
    "        X_train, X_val = train_X.iloc[train_index], train_X.iloc[val_index]\n",
    "        y_train, y_val = train_y.iloc[train_index], train_y.iloc[val_index]\n",
    "\n",
    "        sm = SMOTE(random_state=42, n_jobs=-1) # neighbor = 5\n",
    "        X_smote, y_smote = sm.fit_resample(X_train, y_train)\n",
    "        \n",
    "        model.fit(X_smote, y_smote)\n",
    "        models.append(model)\n",
    "        pred_prob = model.predict_proba(X_val)\n",
    "\n",
    "        fold_val_loss = log_loss(y_val, pred_prob)\n",
    "        fold_val_losses.append(fold_val_loss)\n",
    "        print(f\"FOLD {n_fold} : logloss = {fold_val_loss:.3f}\")\n",
    "    \n",
    "    mean_fold_val_losses=np.mean(fold_val_losses)\n",
    "    print('---------------------------------------------------------')\n",
    "    print(f'SMOTE with class : {c}, Mean logloss = {mean_fold_val_losses:.3f}')\n",
    "    print('---------------------------------------------------------')"
   ]
  },
  {
   "cell_type": "code",
   "execution_count": 96,
   "metadata": {
    "ExecuteTime": {
     "end_time": "2021-05-01T13:30:52.121086Z",
     "start_time": "2021-05-01T13:30:52.107352Z"
    }
   },
   "outputs": [
    {
     "data": {
      "text/plain": [
       "[LogisticRegression(),\n",
       " LogisticRegression(),\n",
       " LogisticRegression(),\n",
       " LogisticRegression(),\n",
       " LogisticRegression(),\n",
       " LogisticRegression(),\n",
       " LogisticRegression(),\n",
       " LogisticRegression(),\n",
       " LogisticRegression(),\n",
       " LogisticRegression(),\n",
       " LogisticRegression(),\n",
       " LogisticRegression(),\n",
       " LogisticRegression(),\n",
       " LogisticRegression(),\n",
       " LogisticRegression()]"
      ]
     },
     "execution_count": 96,
     "metadata": {},
     "output_type": "execute_result"
    }
   ],
   "source": [
    "models"
   ]
  },
  {
   "cell_type": "code",
   "execution_count": 97,
   "metadata": {
    "ExecuteTime": {
     "end_time": "2021-05-01T13:30:52.908757Z",
     "start_time": "2021-05-01T13:30:52.863249Z"
    }
   },
   "outputs": [],
   "source": [
    "test_X = test_final.drop(labels='index', axis=1)\n",
    "sub = np.zeros((test_X.shape[0], 3))\n",
    "\n",
    "# 순서는\n",
    "class_label = [[0,1], [0,2], [1,2]]\n",
    "for idx, i in enumerate([0, 4, 8]):\n",
    "    for j in range(i, i+4):\n",
    "        model = models[j]\n",
    "        pred = model.predict_proba(test_X) \n",
    "        sub[:, class_label[idx]] += pred\n",
    "\n",
    "def new_softmax(a) : \n",
    "    c = np.max(a, axis=1).reshape(-1,1) \n",
    "    exp_a = np.exp(a-c)\n",
    "    sum_exp_a = np.sum(exp_a, axis=1).reshape(-1,1) \n",
    "    y = exp_a / sum_exp_a\n",
    "    return y\n",
    "\n",
    "submission[['0','1','2']] = new_softmax(sub)\n",
    "submission.to_csv('sub/Logistic_smote.csv', index=False)"
   ]
  },
  {
   "cell_type": "code",
   "execution_count": null,
   "metadata": {},
   "outputs": [],
   "source": [
    "# OVO + 전체데이터\n",
    "# Logistic\n",
    "\n",
    "model = LogisticRegression()\n",
    "\n",
    "train_X = train_final.drop(labels=['credit', 'index'], axis=1)\n",
    "train_y = train_final['credit']\n",
    "test_X = test_final.drop(labels='index', axis=1)\n",
    "\n",
    "folds = StratifiedKFold(n_splits=5, shuffle=True, random_state=42)\n",
    "fold_val_losses = []\n",
    "sub = np.zeros((test_X.shape[0], 3))\n",
    "\n",
    "for n_fold, (train_index, val_index) in enumerate(folds.split(train_X, train_y)):\n",
    "    X_train, X_val = train_X.iloc[train_index], train_X.iloc[val_index]\n",
    "    y_train, y_val = train_y.iloc[train_index], train_y.iloc[val_index]\n",
    "                                                  \n",
    "    model.fit(X_train, y_train)\n",
    "    pred_prob = model.predict_proba(X_val)\n",
    "    \n",
    "    train_y_for_logloss = np.zeros((len(y_val), 3))\n",
    "    for row_idx, target in enumerate(y_val):\n",
    "        train_y_for_logloss[row_idx, int(target)] = 1\n",
    "                                                  \n",
    "    fold_val_loss = log_loss(train_y_for_logloss, pred_prob)\n",
    "    fold_val_losses.append(fold_val_loss)\n",
    "    print(f\"FOLD {n_fold} : logloss = {fold_val_loss}\")\n",
    "\n",
    "    sub += model.predict_proba(test_X) / folds.n_splits\n",
    "\n",
    "mean_fold_val_losses=np.mean(fold_val_losses)\n",
    "print(f'Mean logloss = {mean_fold_val_losses}')\n",
    "\n",
    "submission[['0','1','2']] = (submission[['0','1','2']]  + sub) * 0.5\n",
    "submission.to_csv('sub/OVO_Logistic_SMOTE+BaseLogistic.csv', index=False)"
   ]
  },
  {
   "cell_type": "markdown",
   "metadata": {},
   "source": [
    "# OVO+SMOTE+RF"
   ]
  },
  {
   "cell_type": "code",
   "execution_count": 82,
   "metadata": {
    "ExecuteTime": {
     "end_time": "2021-05-01T13:09:57.139831Z",
     "start_time": "2021-05-01T13:09:57.126832Z"
    }
   },
   "outputs": [],
   "source": [
    "from sklearn.ensemble import RandomForestClassifier"
   ]
  },
  {
   "cell_type": "code",
   "execution_count": 83,
   "metadata": {
    "ExecuteTime": {
     "end_time": "2021-05-01T13:10:30.979423Z",
     "start_time": "2021-05-01T13:09:57.310721Z"
    }
   },
   "outputs": [
    {
     "name": "stdout",
     "output_type": "stream",
     "text": [
      "FOLD 0 : logloss = 0.539\n",
      "FOLD 1 : logloss = 0.559\n",
      "FOLD 2 : logloss = 0.559\n",
      "FOLD 3 : logloss = 0.617\n",
      "FOLD 4 : logloss = 0.572\n",
      "---------------------------------------------------------\n",
      "SMOTE with class : [0.0, 1.0], Mean logloss = 0.569\n",
      "---------------------------------------------------------\n",
      "FOLD 0 : logloss = 0.501\n",
      "FOLD 1 : logloss = 0.490\n",
      "FOLD 2 : logloss = 0.506\n",
      "FOLD 3 : logloss = 0.530\n",
      "FOLD 4 : logloss = 0.493\n",
      "---------------------------------------------------------\n",
      "SMOTE with class : [0.0, 2.0], Mean logloss = 0.504\n",
      "---------------------------------------------------------\n",
      "FOLD 0 : logloss = 0.521\n",
      "FOLD 1 : logloss = 0.559\n",
      "FOLD 2 : logloss = 0.525\n",
      "FOLD 3 : logloss = 0.529\n",
      "FOLD 4 : logloss = 0.549\n",
      "---------------------------------------------------------\n",
      "SMOTE with class : [1.0, 2.0], Mean logloss = 0.537\n",
      "---------------------------------------------------------\n"
     ]
    }
   ],
   "source": [
    "model = RandomForestClassifier()\n",
    "models = []\n",
    "\n",
    "for c in [[0.0,1.0], [0.0,2.0], [1.0,2.0]]:\n",
    "    sub_train = train_final.loc[train_final['credit'].isin(c), :]\n",
    "    train_X = sub_train.drop(labels=['credit', 'index'], axis=1)\n",
    "    train_y = sub_train['credit']\n",
    "    \n",
    "    folds = StratifiedKFold(n_splits=5, shuffle=True, random_state=42)\n",
    "    fold_val_losses = []\n",
    "    # sub = np.zeros((test_X.shape[0], 3))\n",
    "    \n",
    "    for n_fold, (train_index, val_index) in enumerate(folds.split(train_X, train_y)):\n",
    "        X_train, X_val = train_X.iloc[train_index], train_X.iloc[val_index]\n",
    "        y_train, y_val = train_y.iloc[train_index], train_y.iloc[val_index]\n",
    "\n",
    "        sm = SMOTE(random_state=42, n_jobs=-1) # neighbor = 5\n",
    "        X_smote, y_smote = sm.fit_resample(X_train, y_train)\n",
    "        \n",
    "        model.fit(X_smote, y_smote)\n",
    "        models.append(model)\n",
    "        pred_prob = model.predict_proba(X_val)\n",
    "\n",
    "        fold_val_loss = log_loss(y_val, pred_prob)\n",
    "        fold_val_losses.append(fold_val_loss)\n",
    "        print(f\"FOLD {n_fold} : logloss = {fold_val_loss:.3f}\")\n",
    "    \n",
    "    mean_fold_val_losses=np.mean(fold_val_losses)\n",
    "    print('---------------------------------------------------------')\n",
    "    print(f'SMOTE with class : {c}, Mean logloss = {mean_fold_val_losses:.3f}')\n",
    "    print('---------------------------------------------------------')"
   ]
  },
  {
   "cell_type": "code",
   "execution_count": 84,
   "metadata": {
    "ExecuteTime": {
     "end_time": "2021-05-01T13:10:48.455772Z",
     "start_time": "2021-05-01T13:10:45.986497Z"
    }
   },
   "outputs": [],
   "source": [
    "test_X = test_final.drop(labels='index', axis=1)\n",
    "sub = np.zeros((test_X.shape[0], 3))\n",
    "\n",
    "# 순서는\n",
    "class_label = [[0,1], [0,2], [1,2]]\n",
    "for idx, i in enumerate([0, 4, 8]):\n",
    "    for j in range(i, i+4):\n",
    "        model = models[j]\n",
    "        pred = model.predict_proba(test_X) \n",
    "        sub[:, class_label[idx]] += pred"
   ]
  },
  {
   "cell_type": "code",
   "execution_count": 86,
   "metadata": {
    "ExecuteTime": {
     "end_time": "2021-05-01T13:11:10.397946Z",
     "start_time": "2021-05-01T13:11:10.333988Z"
    }
   },
   "outputs": [],
   "source": [
    "submission[['0','1','2']] = new_softmax(sub)\n",
    "submission.to_csv('sub/OVO_RF_SMOTE.csv', index=False)"
   ]
  },
  {
   "cell_type": "code",
   "execution_count": null,
   "metadata": {},
   "outputs": [],
   "source": []
  }
 ],
 "metadata": {
  "kernelspec": {
   "display_name": "Python 3",
   "language": "python",
   "name": "python3"
  },
  "language_info": {
   "codemirror_mode": {
    "name": "ipython",
    "version": 3
   },
   "file_extension": ".py",
   "mimetype": "text/x-python",
   "name": "python",
   "nbconvert_exporter": "python",
   "pygments_lexer": "ipython3",
   "version": "3.8.3"
  }
 },
 "nbformat": 4,
 "nbformat_minor": 4
}

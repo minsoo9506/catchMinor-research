{
 "cells": [
  {
   "cell_type": "code",
   "execution_count": 1,
   "metadata": {
    "ExecuteTime": {
     "end_time": "2021-05-15T03:54:12.408503Z",
     "start_time": "2021-05-15T03:54:09.499182Z"
    }
   },
   "outputs": [],
   "source": [
    "import warnings\n",
    "warnings.filterwarnings('ignore')\n",
    "import pandas as pd\n",
    "import numpy as np\n",
    "from lightgbm import LGBMClassifier\n",
    "from sklearn.model_selection import KFold, StratifiedKFold\n",
    "from sklearn.metrics import log_loss, confusion_matrix"
   ]
  },
  {
   "cell_type": "code",
   "execution_count": 2,
   "metadata": {
    "ExecuteTime": {
     "end_time": "2021-05-15T03:54:13.347903Z",
     "start_time": "2021-05-15T03:54:13.257321Z"
    }
   },
   "outputs": [],
   "source": [
    "train = pd.read_csv('data/train.csv')\n",
    "test = pd.read_csv('data/test.csv')\n",
    "submission = pd.read_csv('data/sample_submission.csv')"
   ]
  },
  {
   "cell_type": "code",
   "execution_count": 3,
   "metadata": {
    "ExecuteTime": {
     "end_time": "2021-05-15T03:54:23.805970Z",
     "start_time": "2021-05-15T03:54:23.772952Z"
    }
   },
   "outputs": [],
   "source": [
    "cols = ['gender', 'car', 'reality', 'child_num', 'income_total',\n",
    "       'income_type', 'edu_type', 'family_type', 'house_type', 'DAYS_BIRTH',\n",
    "       'DAYS_EMPLOYED', 'FLAG_MOBIL', 'work_phone', 'phone', 'email',\n",
    "       'occyp_type', 'family_size', 'begin_month']\n",
    "train.drop_duplicates(cols, inplace=True)"
   ]
  },
  {
   "cell_type": "code",
   "execution_count": 4,
   "metadata": {
    "ExecuteTime": {
     "end_time": "2021-05-15T03:54:24.017888Z",
     "start_time": "2021-05-15T03:54:23.948954Z"
    }
   },
   "outputs": [],
   "source": [
    "train['DAYS_BIRTH'] = - round(train['DAYS_BIRTH'] / 365)\n",
    "test['DAYS_BIRTH'] = - round(test['DAYS_BIRTH'] / 365)\n",
    "\n",
    "train['DAYS_EMPLOYED'] = - (train['DAYS_EMPLOYED'] / 365)\n",
    "train.loc[train['DAYS_EMPLOYED'] < 0, 'DAYS_EMPLOYED'] = 0\n",
    "test['DAYS_EMPLOYED'] = - (test['DAYS_EMPLOYED'] / 365)\n",
    "test.loc[test['DAYS_EMPLOYED'] < 0, 'DAYS_EMPLOYED'] = 0"
   ]
  },
  {
   "cell_type": "code",
   "execution_count": 5,
   "metadata": {
    "ExecuteTime": {
     "end_time": "2021-05-15T03:54:24.412870Z",
     "start_time": "2021-05-15T03:54:24.401870Z"
    }
   },
   "outputs": [],
   "source": [
    "# 일단 None으로 하고 나중에 더 fancy한 imputation 꼭 해야할듯\n",
    "train['occyp_type'].fillna('none', inplace=True)\n",
    "test['occyp_type'].fillna('none', inplace=True)"
   ]
  },
  {
   "cell_type": "code",
   "execution_count": 6,
   "metadata": {
    "ExecuteTime": {
     "end_time": "2021-05-15T03:54:24.746236Z",
     "start_time": "2021-05-15T03:54:24.734207Z"
    }
   },
   "outputs": [],
   "source": [
    "train = train.loc[train['child_num'] < 10, :]"
   ]
  },
  {
   "cell_type": "code",
   "execution_count": 7,
   "metadata": {
    "ExecuteTime": {
     "end_time": "2021-05-15T03:54:26.730772Z",
     "start_time": "2021-05-15T03:54:26.719744Z"
    }
   },
   "outputs": [],
   "source": [
    "categoric_cols = ['gender','car','reality',\n",
    "                 'income_type', 'edu_type', 'family_type',\n",
    "                 'house_type', 'FLAG_MOBIL', 'work_phone',\n",
    "                 'phone', 'email', 'occyp_type']\n",
    "numeric_cols = ['child_num', 'income_total', 'DAYS_BIRTH', 'DAYS_EMPLOYED', 'family_size', 'begin_month']"
   ]
  },
  {
   "cell_type": "code",
   "execution_count": 8,
   "metadata": {
    "ExecuteTime": {
     "end_time": "2021-05-15T03:54:27.126102Z",
     "start_time": "2021-05-15T03:54:27.069636Z"
    }
   },
   "outputs": [],
   "source": [
    "train_OH = pd.get_dummies(train, columns=categoric_cols, drop_first=True)\n",
    "test_OH = pd.get_dummies(test, columns=categoric_cols, drop_first=True)"
   ]
  },
  {
   "cell_type": "code",
   "execution_count": 9,
   "metadata": {
    "ExecuteTime": {
     "end_time": "2021-05-15T03:54:28.580484Z",
     "start_time": "2021-05-15T03:54:28.559753Z"
    }
   },
   "outputs": [],
   "source": [
    "from sklearn.preprocessing import StandardScaler\n",
    "\n",
    "scaler = StandardScaler()\n",
    "scaler.fit(train_OH[numeric_cols])\n",
    "train_OH_scaled = scaler.transform(train_OH[numeric_cols])\n",
    "test_OH_scaled = scaler.transform(test_OH[numeric_cols])"
   ]
  },
  {
   "cell_type": "code",
   "execution_count": 10,
   "metadata": {
    "ExecuteTime": {
     "end_time": "2021-05-15T03:54:28.794113Z",
     "start_time": "2021-05-15T03:54:28.753845Z"
    }
   },
   "outputs": [],
   "source": [
    "train_final = train_OH.copy()\n",
    "test_final = test_OH.copy()\n",
    "\n",
    "train_final[numeric_cols] = train_OH_scaled\n",
    "test_final[numeric_cols] = test_OH_scaled"
   ]
  },
  {
   "cell_type": "code",
   "execution_count": 11,
   "metadata": {
    "ExecuteTime": {
     "end_time": "2021-05-15T03:54:33.295436Z",
     "start_time": "2021-05-15T03:54:33.247886Z"
    }
   },
   "outputs": [
    {
     "data": {
      "text/html": [
       "<div>\n",
       "<style scoped>\n",
       "    .dataframe tbody tr th:only-of-type {\n",
       "        vertical-align: middle;\n",
       "    }\n",
       "\n",
       "    .dataframe tbody tr th {\n",
       "        vertical-align: top;\n",
       "    }\n",
       "\n",
       "    .dataframe thead th {\n",
       "        text-align: right;\n",
       "    }\n",
       "</style>\n",
       "<table border=\"1\" class=\"dataframe\">\n",
       "  <thead>\n",
       "    <tr style=\"text-align: right;\">\n",
       "      <th></th>\n",
       "      <th>index</th>\n",
       "      <th>child_num</th>\n",
       "      <th>income_total</th>\n",
       "      <th>DAYS_BIRTH</th>\n",
       "      <th>DAYS_EMPLOYED</th>\n",
       "      <th>family_size</th>\n",
       "      <th>begin_month</th>\n",
       "      <th>credit</th>\n",
       "      <th>gender_M</th>\n",
       "      <th>car_Y</th>\n",
       "      <th>...</th>\n",
       "      <th>occyp_type_Low-skill Laborers</th>\n",
       "      <th>occyp_type_Managers</th>\n",
       "      <th>occyp_type_Medicine staff</th>\n",
       "      <th>occyp_type_Private service staff</th>\n",
       "      <th>occyp_type_Realty agents</th>\n",
       "      <th>occyp_type_Sales staff</th>\n",
       "      <th>occyp_type_Secretaries</th>\n",
       "      <th>occyp_type_Security staff</th>\n",
       "      <th>occyp_type_Waiters/barmen staff</th>\n",
       "      <th>occyp_type_none</th>\n",
       "    </tr>\n",
       "  </thead>\n",
       "  <tbody>\n",
       "    <tr>\n",
       "      <th>0</th>\n",
       "      <td>0</td>\n",
       "      <td>-0.591186</td>\n",
       "      <td>0.156350</td>\n",
       "      <td>-0.495717</td>\n",
       "      <td>1.062968</td>\n",
       "      <td>-0.219251</td>\n",
       "      <td>1.212203</td>\n",
       "      <td>1.0</td>\n",
       "      <td>0</td>\n",
       "      <td>0</td>\n",
       "      <td>...</td>\n",
       "      <td>0</td>\n",
       "      <td>0</td>\n",
       "      <td>0</td>\n",
       "      <td>0</td>\n",
       "      <td>0</td>\n",
       "      <td>0</td>\n",
       "      <td>0</td>\n",
       "      <td>0</td>\n",
       "      <td>0</td>\n",
       "      <td>1</td>\n",
       "    </tr>\n",
       "    <tr>\n",
       "      <th>1</th>\n",
       "      <td>1</td>\n",
       "      <td>0.786589</td>\n",
       "      <td>0.601656</td>\n",
       "      <td>-1.102109</td>\n",
       "      <td>-0.275762</td>\n",
       "      <td>0.891057</td>\n",
       "      <td>1.272701</td>\n",
       "      <td>1.0</td>\n",
       "      <td>0</td>\n",
       "      <td>0</td>\n",
       "      <td>...</td>\n",
       "      <td>0</td>\n",
       "      <td>0</td>\n",
       "      <td>0</td>\n",
       "      <td>0</td>\n",
       "      <td>0</td>\n",
       "      <td>0</td>\n",
       "      <td>0</td>\n",
       "      <td>0</td>\n",
       "      <td>0</td>\n",
       "      <td>0</td>\n",
       "    </tr>\n",
       "    <tr>\n",
       "      <th>2</th>\n",
       "      <td>2</td>\n",
       "      <td>-0.591186</td>\n",
       "      <td>2.605532</td>\n",
       "      <td>0.717066</td>\n",
       "      <td>0.946796</td>\n",
       "      <td>-0.219251</td>\n",
       "      <td>0.244238</td>\n",
       "      <td>2.0</td>\n",
       "      <td>1</td>\n",
       "      <td>1</td>\n",
       "      <td>...</td>\n",
       "      <td>0</td>\n",
       "      <td>1</td>\n",
       "      <td>0</td>\n",
       "      <td>0</td>\n",
       "      <td>0</td>\n",
       "      <td>0</td>\n",
       "      <td>0</td>\n",
       "      <td>0</td>\n",
       "      <td>0</td>\n",
       "      <td>0</td>\n",
       "    </tr>\n",
       "    <tr>\n",
       "      <th>3</th>\n",
       "      <td>3</td>\n",
       "      <td>-0.591186</td>\n",
       "      <td>0.156350</td>\n",
       "      <td>-0.235835</td>\n",
       "      <td>-0.042572</td>\n",
       "      <td>-0.219251</td>\n",
       "      <td>-0.663229</td>\n",
       "      <td>0.0</td>\n",
       "      <td>0</td>\n",
       "      <td>0</td>\n",
       "      <td>...</td>\n",
       "      <td>0</td>\n",
       "      <td>0</td>\n",
       "      <td>0</td>\n",
       "      <td>0</td>\n",
       "      <td>0</td>\n",
       "      <td>1</td>\n",
       "      <td>0</td>\n",
       "      <td>0</td>\n",
       "      <td>0</td>\n",
       "      <td>0</td>\n",
       "    </tr>\n",
       "    <tr>\n",
       "      <th>4</th>\n",
       "      <td>4</td>\n",
       "      <td>-0.591186</td>\n",
       "      <td>-0.288956</td>\n",
       "      <td>-0.235835</td>\n",
       "      <td>-0.037080</td>\n",
       "      <td>-0.219251</td>\n",
       "      <td>0.002247</td>\n",
       "      <td>2.0</td>\n",
       "      <td>0</td>\n",
       "      <td>1</td>\n",
       "      <td>...</td>\n",
       "      <td>0</td>\n",
       "      <td>1</td>\n",
       "      <td>0</td>\n",
       "      <td>0</td>\n",
       "      <td>0</td>\n",
       "      <td>0</td>\n",
       "      <td>0</td>\n",
       "      <td>0</td>\n",
       "      <td>0</td>\n",
       "      <td>0</td>\n",
       "    </tr>\n",
       "  </tbody>\n",
       "</table>\n",
       "<p>5 rows × 49 columns</p>\n",
       "</div>"
      ],
      "text/plain": [
       "   index  child_num  income_total  DAYS_BIRTH  DAYS_EMPLOYED  family_size  \\\n",
       "0      0  -0.591186      0.156350   -0.495717       1.062968    -0.219251   \n",
       "1      1   0.786589      0.601656   -1.102109      -0.275762     0.891057   \n",
       "2      2  -0.591186      2.605532    0.717066       0.946796    -0.219251   \n",
       "3      3  -0.591186      0.156350   -0.235835      -0.042572    -0.219251   \n",
       "4      4  -0.591186     -0.288956   -0.235835      -0.037080    -0.219251   \n",
       "\n",
       "   begin_month  credit  gender_M  car_Y  ...  occyp_type_Low-skill Laborers  \\\n",
       "0     1.212203     1.0         0      0  ...                              0   \n",
       "1     1.272701     1.0         0      0  ...                              0   \n",
       "2     0.244238     2.0         1      1  ...                              0   \n",
       "3    -0.663229     0.0         0      0  ...                              0   \n",
       "4     0.002247     2.0         0      1  ...                              0   \n",
       "\n",
       "   occyp_type_Managers  occyp_type_Medicine staff  \\\n",
       "0                    0                          0   \n",
       "1                    0                          0   \n",
       "2                    1                          0   \n",
       "3                    0                          0   \n",
       "4                    1                          0   \n",
       "\n",
       "   occyp_type_Private service staff  occyp_type_Realty agents  \\\n",
       "0                                 0                         0   \n",
       "1                                 0                         0   \n",
       "2                                 0                         0   \n",
       "3                                 0                         0   \n",
       "4                                 0                         0   \n",
       "\n",
       "   occyp_type_Sales staff  occyp_type_Secretaries  occyp_type_Security staff  \\\n",
       "0                       0                       0                          0   \n",
       "1                       0                       0                          0   \n",
       "2                       0                       0                          0   \n",
       "3                       1                       0                          0   \n",
       "4                       0                       0                          0   \n",
       "\n",
       "   occyp_type_Waiters/barmen staff  occyp_type_none  \n",
       "0                                0                1  \n",
       "1                                0                0  \n",
       "2                                0                0  \n",
       "3                                0                0  \n",
       "4                                0                0  \n",
       "\n",
       "[5 rows x 49 columns]"
      ]
     },
     "execution_count": 11,
     "metadata": {},
     "output_type": "execute_result"
    }
   ],
   "source": [
    "train_final.head()"
   ]
  },
  {
   "cell_type": "markdown",
   "metadata": {},
   "source": [
    "# Single LGB"
   ]
  },
  {
   "cell_type": "code",
   "execution_count": 113,
   "metadata": {
    "ExecuteTime": {
     "end_time": "2021-05-15T05:10:25.865816Z",
     "start_time": "2021-05-15T05:10:13.556516Z"
    }
   },
   "outputs": [
    {
     "name": "stdout",
     "output_type": "stream",
     "text": [
      "Training until validation scores don't improve for 400 rounds\n",
      "[200]\ttraining's multi_logloss: 0.561225\tvalid_1's multi_logloss: 0.750397\n",
      "[400]\ttraining's multi_logloss: 0.440716\tvalid_1's multi_logloss: 0.750174\n",
      "[600]\ttraining's multi_logloss: 0.359317\tvalid_1's multi_logloss: 0.762936\n",
      "Early stopping, best iteration is:\n",
      "[306]\ttraining's multi_logloss: 0.491653\tvalid_1's multi_logloss: 0.747003\n",
      "-------------------------------------------\n",
      "Training until validation scores don't improve for 400 rounds\n",
      "[200]\ttraining's multi_logloss: 0.554812\tvalid_1's multi_logloss: 0.747485\n",
      "[400]\ttraining's multi_logloss: 0.432458\tvalid_1's multi_logloss: 0.746893\n",
      "[600]\ttraining's multi_logloss: 0.350252\tvalid_1's multi_logloss: 0.760262\n",
      "Early stopping, best iteration is:\n",
      "[287]\ttraining's multi_logloss: 0.494078\tvalid_1's multi_logloss: 0.742806\n",
      "-------------------------------------------\n",
      "Training until validation scores don't improve for 400 rounds\n",
      "[200]\ttraining's multi_logloss: 0.558059\tvalid_1's multi_logloss: 0.742415\n",
      "[400]\ttraining's multi_logloss: 0.43625\tvalid_1's multi_logloss: 0.744188\n",
      "[600]\ttraining's multi_logloss: 0.352634\tvalid_1's multi_logloss: 0.761425\n",
      "Early stopping, best iteration is:\n",
      "[291]\ttraining's multi_logloss: 0.496112\tvalid_1's multi_logloss: 0.739798\n",
      "-------------------------------------------\n",
      "Training until validation scores don't improve for 400 rounds\n",
      "[200]\ttraining's multi_logloss: 0.554637\tvalid_1's multi_logloss: 0.748195\n",
      "[400]\ttraining's multi_logloss: 0.436864\tvalid_1's multi_logloss: 0.748612\n",
      "[600]\ttraining's multi_logloss: 0.354825\tvalid_1's multi_logloss: 0.760817\n",
      "Early stopping, best iteration is:\n",
      "[283]\ttraining's multi_logloss: 0.499952\tvalid_1's multi_logloss: 0.743996\n",
      "-------------------------------------------\n",
      "Training until validation scores don't improve for 400 rounds\n",
      "[200]\ttraining's multi_logloss: 0.555614\tvalid_1's multi_logloss: 0.746905\n",
      "[400]\ttraining's multi_logloss: 0.435652\tvalid_1's multi_logloss: 0.746107\n",
      "[600]\ttraining's multi_logloss: 0.351596\tvalid_1's multi_logloss: 0.761678\n",
      "Early stopping, best iteration is:\n",
      "[340]\ttraining's multi_logloss: 0.465472\tvalid_1's multi_logloss: 0.743864\n",
      "-------------------------------------------\n"
     ]
    }
   ],
   "source": [
    "lgb = LGBMClassifier(n_estimators=2000)\n",
    "\n",
    "train_X = train_final.drop(labels=['credit', 'index'], axis=1)\n",
    "train_y = train_final['credit']\n",
    "test_X = test_final.drop(labels='index', axis=1)\n",
    "\n",
    "folds = StratifiedKFold(n_splits=5, shuffle=True, random_state=42)\n",
    "fold_val_losses = []\n",
    "single_sub = np.zeros((test_X.shape[0], 3))\n",
    "\n",
    "for n_fold, (train_index, val_index) in enumerate(folds.split(train_X, train_y)):\n",
    "    X_train, X_val = train_X.iloc[train_index], train_X.iloc[val_index]\n",
    "    y_train, y_val = train_y.iloc[train_index], train_y.iloc[val_index]\n",
    "                                                  \n",
    "    lgb.fit(X_train, y_train, \n",
    "            eval_set=[(X_train, y_train), (X_val, y_val)], \n",
    "            early_stopping_rounds=400, verbose=200)\n",
    "\n",
    "    single_sub += lgb.predict_proba(test_X) / folds.n_splits\n",
    "    print('-------------------------------------------')"
   ]
  },
  {
   "cell_type": "code",
   "execution_count": 114,
   "metadata": {
    "ExecuteTime": {
     "end_time": "2021-05-15T05:10:25.880814Z",
     "start_time": "2021-05-15T05:10:25.867817Z"
    }
   },
   "outputs": [
    {
     "data": {
      "text/plain": [
       "2    8825\n",
       "1     973\n",
       "0     202\n",
       "dtype: int64"
      ]
     },
     "execution_count": 114,
     "metadata": {},
     "output_type": "execute_result"
    }
   ],
   "source": [
    "pd.Series(np.argmax(single_sub, axis=1)).value_counts()"
   ]
  },
  {
   "cell_type": "code",
   "execution_count": 101,
   "metadata": {
    "ExecuteTime": {
     "end_time": "2021-05-15T05:03:39.354304Z",
     "start_time": "2021-05-15T05:03:27.116987Z"
    }
   },
   "outputs": [
    {
     "name": "stdout",
     "output_type": "stream",
     "text": [
      "Training until validation scores don't improve for 400 rounds\n",
      "[200]\ttraining's multi_logloss: 0.645741\tvalid_1's multi_logloss: 0.772742\n",
      "[400]\ttraining's multi_logloss: 0.504058\tvalid_1's multi_logloss: 0.764042\n",
      "[600]\ttraining's multi_logloss: 0.403556\tvalid_1's multi_logloss: 0.771718\n",
      "Early stopping, best iteration is:\n",
      "[367]\ttraining's multi_logloss: 0.523582\tvalid_1's multi_logloss: 0.763749\n",
      "-------------------------------------------\n",
      "Training until validation scores don't improve for 400 rounds\n",
      "[200]\ttraining's multi_logloss: 0.642402\tvalid_1's multi_logloss: 0.771047\n",
      "[400]\ttraining's multi_logloss: 0.494341\tvalid_1's multi_logloss: 0.761389\n",
      "[600]\ttraining's multi_logloss: 0.39568\tvalid_1's multi_logloss: 0.770029\n",
      "Early stopping, best iteration is:\n",
      "[324]\ttraining's multi_logloss: 0.539934\tvalid_1's multi_logloss: 0.760105\n",
      "-------------------------------------------\n",
      "Training until validation scores don't improve for 400 rounds\n",
      "[200]\ttraining's multi_logloss: 0.644638\tvalid_1's multi_logloss: 0.764653\n",
      "[400]\ttraining's multi_logloss: 0.499053\tvalid_1's multi_logloss: 0.758862\n",
      "[600]\ttraining's multi_logloss: 0.400157\tvalid_1's multi_logloss: 0.768963\n",
      "Early stopping, best iteration is:\n",
      "[374]\ttraining's multi_logloss: 0.514134\tvalid_1's multi_logloss: 0.758197\n",
      "-------------------------------------------\n",
      "Training until validation scores don't improve for 400 rounds\n",
      "[200]\ttraining's multi_logloss: 0.64627\tvalid_1's multi_logloss: 0.770708\n",
      "[400]\ttraining's multi_logloss: 0.500721\tvalid_1's multi_logloss: 0.762\n",
      "[600]\ttraining's multi_logloss: 0.399969\tvalid_1's multi_logloss: 0.771453\n",
      "Early stopping, best iteration is:\n",
      "[335]\ttraining's multi_logloss: 0.540571\tvalid_1's multi_logloss: 0.76098\n",
      "-------------------------------------------\n",
      "Training until validation scores don't improve for 400 rounds\n",
      "[200]\ttraining's multi_logloss: 0.643123\tvalid_1's multi_logloss: 0.767997\n",
      "[400]\ttraining's multi_logloss: 0.495474\tvalid_1's multi_logloss: 0.759826\n",
      "[600]\ttraining's multi_logloss: 0.398383\tvalid_1's multi_logloss: 0.76846\n",
      "Early stopping, best iteration is:\n",
      "[372]\ttraining's multi_logloss: 0.512057\tvalid_1's multi_logloss: 0.759111\n",
      "-------------------------------------------\n"
     ]
    }
   ],
   "source": [
    "lgb = LGBMClassifier(n_estimators=2000)\n",
    "sample_weight_dic = {2:1, 1:1.5, 0:2}\n",
    "\n",
    "train_X = train_final.drop(labels=['credit', 'index'], axis=1)\n",
    "train_y = train_final['credit']\n",
    "test_X = test_final.drop(labels='index', axis=1)\n",
    "\n",
    "folds = StratifiedKFold(n_splits=5, shuffle=True, random_state=42)\n",
    "fold_val_losses = []\n",
    "sub = np.zeros((test_X.shape[0], 3))\n",
    "\n",
    "for n_fold, (train_index, val_index) in enumerate(folds.split(train_X, train_y)):\n",
    "    X_train, X_val = train_X.iloc[train_index], train_X.iloc[val_index]\n",
    "    y_train, y_val = train_y.iloc[train_index], train_y.iloc[val_index]\n",
    "                 \n",
    "        \n",
    "    # sample weight\n",
    "    sample_weight = []\n",
    "    for i in y_train.values:\n",
    "        sample_weight.append(sample_weight_dic[i])\n",
    "            \n",
    "    lgb.fit(X_train, y_train, \n",
    "            eval_set=[(X_train, y_train), (X_val, y_val)], \n",
    "            sample_weight=sample_weight,\n",
    "            early_stopping_rounds=400, verbose=200)\n",
    "\n",
    "    sub += lgb.predict_proba(test_X) / folds.n_splits\n",
    "    print('-------------------------------------------')"
   ]
  },
  {
   "cell_type": "code",
   "execution_count": 102,
   "metadata": {
    "ExecuteTime": {
     "end_time": "2021-05-15T05:03:39.369352Z",
     "start_time": "2021-05-15T05:03:39.356303Z"
    }
   },
   "outputs": [
    {
     "data": {
      "text/plain": [
       "2    8243\n",
       "1    1295\n",
       "0     462\n",
       "dtype: int64"
      ]
     },
     "execution_count": 102,
     "metadata": {},
     "output_type": "execute_result"
    }
   ],
   "source": [
    "pd.Series(np.argmax(sub, axis=1)).value_counts()"
   ]
  },
  {
   "cell_type": "markdown",
   "metadata": {},
   "source": [
    "# OVO + Prob Calibration"
   ]
  },
  {
   "cell_type": "code",
   "execution_count": 25,
   "metadata": {
    "ExecuteTime": {
     "end_time": "2021-05-15T04:26:53.401717Z",
     "start_time": "2021-05-15T04:26:53.395721Z"
    }
   },
   "outputs": [],
   "source": [
    "train_final['credit'] = train_final['credit'].astype('int8')"
   ]
  },
  {
   "cell_type": "code",
   "execution_count": 26,
   "metadata": {
    "ExecuteTime": {
     "end_time": "2021-05-15T04:26:59.016011Z",
     "start_time": "2021-05-15T04:26:59.002014Z"
    }
   },
   "outputs": [
    {
     "data": {
      "text/plain": [
       "2    15543\n",
       "1     5692\n",
       "0     2865\n",
       "Name: credit, dtype: int64"
      ]
     },
     "execution_count": 26,
     "metadata": {},
     "output_type": "execute_result"
    }
   ],
   "source": [
    "train_final['credit'].value_counts()"
   ]
  },
  {
   "cell_type": "markdown",
   "metadata": {},
   "source": [
    "- weight는 {2:1, 1:1.5, 0:2}"
   ]
  },
  {
   "cell_type": "code",
   "execution_count": 41,
   "metadata": {
    "ExecuteTime": {
     "end_time": "2021-05-15T04:34:55.179534Z",
     "start_time": "2021-05-15T04:34:55.154560Z"
    }
   },
   "outputs": [],
   "source": [
    "from sklearn.isotonic import IsotonicRegression"
   ]
  },
  {
   "cell_type": "code",
   "execution_count": 116,
   "metadata": {
    "ExecuteTime": {
     "end_time": "2021-05-15T05:11:13.121177Z",
     "start_time": "2021-05-15T05:11:02.945814Z"
    }
   },
   "outputs": [
    {
     "name": "stdout",
     "output_type": "stream",
     "text": [
      "OVO with class : [0, 1]\n",
      "Training until validation scores don't improve for 400 rounds\n",
      "[200]\ttraining's binary_logloss: 0.3776\tvalid_1's binary_logloss: 0.565685\n",
      "[400]\ttraining's binary_logloss: 0.2637\tvalid_1's binary_logloss: 0.568011\n",
      "[600]\ttraining's binary_logloss: 0.193913\tvalid_1's binary_logloss: 0.582342\n",
      "Early stopping, best iteration is:\n",
      "[258]\ttraining's binary_logloss: 0.337084\tvalid_1's binary_logloss: 0.561032\n",
      "Training until validation scores don't improve for 400 rounds\n",
      "[200]\ttraining's binary_logloss: 0.377634\tvalid_1's binary_logloss: 0.571399\n",
      "[400]\ttraining's binary_logloss: 0.258976\tvalid_1's binary_logloss: 0.575004\n",
      "[600]\ttraining's binary_logloss: 0.186804\tvalid_1's binary_logloss: 0.593741\n",
      "Early stopping, best iteration is:\n",
      "[277]\ttraining's binary_logloss: 0.324011\tvalid_1's binary_logloss: 0.569001\n",
      "Training until validation scores don't improve for 400 rounds\n",
      "[200]\ttraining's binary_logloss: 0.375862\tvalid_1's binary_logloss: 0.580895\n",
      "[400]\ttraining's binary_logloss: 0.257637\tvalid_1's binary_logloss: 0.585982\n",
      "Early stopping, best iteration is:\n",
      "[189]\ttraining's binary_logloss: 0.383969\tvalid_1's binary_logloss: 0.579707\n",
      "Training until validation scores don't improve for 400 rounds\n",
      "[200]\ttraining's binary_logloss: 0.367906\tvalid_1's binary_logloss: 0.578355\n",
      "[400]\ttraining's binary_logloss: 0.253607\tvalid_1's binary_logloss: 0.592197\n",
      "Early stopping, best iteration is:\n",
      "[192]\ttraining's binary_logloss: 0.373971\tvalid_1's binary_logloss: 0.577095\n",
      "Training until validation scores don't improve for 400 rounds\n",
      "[200]\ttraining's binary_logloss: 0.369558\tvalid_1's binary_logloss: 0.578949\n",
      "[400]\ttraining's binary_logloss: 0.251629\tvalid_1's binary_logloss: 0.592968\n",
      "[600]\ttraining's binary_logloss: 0.182984\tvalid_1's binary_logloss: 0.612409\n",
      "Early stopping, best iteration is:\n",
      "[213]\ttraining's binary_logloss: 0.358815\tvalid_1's binary_logloss: 0.577021\n",
      "---------------------------------------------------------\n",
      "OVO with class : [0, 2]\n",
      "Training until validation scores don't improve for 400 rounds\n",
      "[200]\ttraining's binary_logloss: 0.342961\tvalid_1's binary_logloss: 0.392722\n",
      "[400]\ttraining's binary_logloss: 0.249911\tvalid_1's binary_logloss: 0.383498\n",
      "[600]\ttraining's binary_logloss: 0.189845\tvalid_1's binary_logloss: 0.3871\n",
      "Early stopping, best iteration is:\n",
      "[371]\ttraining's binary_logloss: 0.260268\tvalid_1's binary_logloss: 0.382981\n",
      "Training until validation scores don't improve for 400 rounds\n",
      "[200]\ttraining's binary_logloss: 0.342193\tvalid_1's binary_logloss: 0.392998\n",
      "[400]\ttraining's binary_logloss: 0.248817\tvalid_1's binary_logloss: 0.387814\n",
      "[600]\ttraining's binary_logloss: 0.190069\tvalid_1's binary_logloss: 0.392496\n",
      "Early stopping, best iteration is:\n",
      "[348]\ttraining's binary_logloss: 0.268189\tvalid_1's binary_logloss: 0.386478\n",
      "Training until validation scores don't improve for 400 rounds\n",
      "[200]\ttraining's binary_logloss: 0.339817\tvalid_1's binary_logloss: 0.400679\n",
      "[400]\ttraining's binary_logloss: 0.246864\tvalid_1's binary_logloss: 0.400632\n",
      "[600]\ttraining's binary_logloss: 0.186117\tvalid_1's binary_logloss: 0.408087\n",
      "Early stopping, best iteration is:\n",
      "[251]\ttraining's binary_logloss: 0.31021\tvalid_1's binary_logloss: 0.399197\n",
      "Training until validation scores don't improve for 400 rounds\n",
      "[200]\ttraining's binary_logloss: 0.340641\tvalid_1's binary_logloss: 0.389043\n",
      "[400]\ttraining's binary_logloss: 0.247734\tvalid_1's binary_logloss: 0.38577\n",
      "[600]\ttraining's binary_logloss: 0.186628\tvalid_1's binary_logloss: 0.391313\n",
      "Early stopping, best iteration is:\n",
      "[354]\ttraining's binary_logloss: 0.264979\tvalid_1's binary_logloss: 0.384225\n",
      "Training until validation scores don't improve for 400 rounds\n",
      "[200]\ttraining's binary_logloss: 0.343258\tvalid_1's binary_logloss: 0.387019\n",
      "[400]\ttraining's binary_logloss: 0.251271\tvalid_1's binary_logloss: 0.380366\n",
      "[600]\ttraining's binary_logloss: 0.18862\tvalid_1's binary_logloss: 0.382879\n",
      "Early stopping, best iteration is:\n",
      "[391]\ttraining's binary_logloss: 0.254587\tvalid_1's binary_logloss: 0.379907\n",
      "---------------------------------------------------------\n",
      "OVO with class : [1, 2]\n",
      "Training until validation scores don't improve for 400 rounds\n",
      "[200]\ttraining's binary_logloss: 0.40838\tvalid_1's binary_logloss: 0.482278\n",
      "[400]\ttraining's binary_logloss: 0.33055\tvalid_1's binary_logloss: 0.479018\n",
      "[600]\ttraining's binary_logloss: 0.27266\tvalid_1's binary_logloss: 0.479886\n",
      "Early stopping, best iteration is:\n",
      "[351]\ttraining's binary_logloss: 0.346076\tvalid_1's binary_logloss: 0.478223\n",
      "Training until validation scores don't improve for 400 rounds\n",
      "[200]\ttraining's binary_logloss: 0.409337\tvalid_1's binary_logloss: 0.479886\n",
      "[400]\ttraining's binary_logloss: 0.331077\tvalid_1's binary_logloss: 0.476355\n",
      "[600]\ttraining's binary_logloss: 0.274383\tvalid_1's binary_logloss: 0.477624\n",
      "Early stopping, best iteration is:\n",
      "[311]\ttraining's binary_logloss: 0.361272\tvalid_1's binary_logloss: 0.475943\n",
      "Training until validation scores don't improve for 400 rounds\n",
      "[200]\ttraining's binary_logloss: 0.410008\tvalid_1's binary_logloss: 0.475776\n",
      "[400]\ttraining's binary_logloss: 0.329269\tvalid_1's binary_logloss: 0.471293\n",
      "[600]\ttraining's binary_logloss: 0.273899\tvalid_1's binary_logloss: 0.477536\n",
      "Early stopping, best iteration is:\n",
      "[331]\ttraining's binary_logloss: 0.352947\tvalid_1's binary_logloss: 0.470529\n",
      "Training until validation scores don't improve for 400 rounds\n",
      "[200]\ttraining's binary_logloss: 0.404214\tvalid_1's binary_logloss: 0.476129\n",
      "[400]\ttraining's binary_logloss: 0.325858\tvalid_1's binary_logloss: 0.473759\n",
      "[600]\ttraining's binary_logloss: 0.2687\tvalid_1's binary_logloss: 0.476604\n",
      "Early stopping, best iteration is:\n",
      "[311]\ttraining's binary_logloss: 0.355174\tvalid_1's binary_logloss: 0.472263\n",
      "Training until validation scores don't improve for 400 rounds\n",
      "[200]\ttraining's binary_logloss: 0.406655\tvalid_1's binary_logloss: 0.474495\n",
      "[400]\ttraining's binary_logloss: 0.328858\tvalid_1's binary_logloss: 0.466817\n",
      "[600]\ttraining's binary_logloss: 0.275182\tvalid_1's binary_logloss: 0.470719\n",
      "[800]\ttraining's binary_logloss: 0.231716\tvalid_1's binary_logloss: 0.475298\n",
      "Early stopping, best iteration is:\n",
      "[401]\ttraining's binary_logloss: 0.328545\tvalid_1's binary_logloss: 0.466691\n",
      "---------------------------------------------------------\n"
     ]
    }
   ],
   "source": [
    "test_X = test_final.drop(labels='index', axis=1)\n",
    "sub = np.zeros((test_X.shape[0], 3))\n",
    "\n",
    "lgb = LGBMClassifier(n_estimators=2000)\n",
    "sample_weight_dic = {2:1, 1:1.5, 0:2}\n",
    "\n",
    "for c in [[0,1], [0,2], [1,2]]:\n",
    "    print(f'OVO with class : {c}')\n",
    "    sub_train = train_final.loc[train_final['credit'].isin(c), :]\n",
    "    train_X = sub_train.drop(labels=['credit', 'index'], axis=1)\n",
    "    train_y = sub_train['credit']\n",
    "    \n",
    "    folds = StratifiedKFold(n_splits=5, shuffle=True, random_state=42)\n",
    "    \n",
    "    for n_fold, (train_index, val_index) in enumerate(folds.split(train_X, train_y)):\n",
    "        X_train, X_val = train_X.iloc[train_index], train_X.iloc[val_index]\n",
    "        y_train, y_val = train_y.iloc[train_index], train_y.iloc[val_index]\n",
    "        \n",
    "        # sample weight\n",
    "        sample_weight = []\n",
    "        for i in y_train.values:\n",
    "            sample_weight.append(sample_weight_dic[i])\n",
    "        \n",
    "        # model fit\n",
    "        lgb.fit(X_train, y_train, \n",
    "                eval_set=[(X_train, y_train), (X_val, y_val)],\n",
    "                sample_weight=sample_weight,\n",
    "                early_stopping_rounds=400, verbose=200)\n",
    "        \n",
    "        # calibration\n",
    "        prob_val = lgb.predict_proba(X_val)[:, 1] # (0,1)이라고 하면 label = 1에 해당하는 확률값\n",
    "        iso_reg = IsotonicRegression(y_min = 0, y_max = 1,\n",
    "                             out_of_bounds = 'clip').fit(prob_val, np.where(y_val.values==c[0], 0, 1)) # label을 0,1로 바꾸기\n",
    "        calibrated_test_prob = iso_reg.predict(lgb.predict_proba(test_X)[:, 1])\n",
    "        # test predict\n",
    "        sub[:, c[1]] += calibrated_test_prob / (folds.n_splits*3)\n",
    "        sub[:, c[0]] += (1-calibrated_test_prob) / (folds.n_splits*3)\n",
    "    print('---------------------------------------------------------')"
   ]
  },
  {
   "cell_type": "markdown",
   "metadata": {},
   "source": [
    "sample_weight_dic = {2:1, 1:1.5, 0:2} 의 경우 test 예측값"
   ]
  },
  {
   "cell_type": "code",
   "execution_count": 117,
   "metadata": {
    "ExecuteTime": {
     "end_time": "2021-05-15T05:11:13.136208Z",
     "start_time": "2021-05-15T05:11:13.123215Z"
    }
   },
   "outputs": [
    {
     "data": {
      "text/plain": [
       "2    8991\n",
       "1     875\n",
       "0     134\n",
       "dtype: int64"
      ]
     },
     "execution_count": 117,
     "metadata": {},
     "output_type": "execute_result"
    }
   ],
   "source": [
    "pd.Series(np.argmax(sub, axis=1)).value_counts()"
   ]
  },
  {
   "cell_type": "code",
   "execution_count": 108,
   "metadata": {
    "ExecuteTime": {
     "end_time": "2021-05-15T05:05:33.524858Z",
     "start_time": "2021-05-15T05:05:33.500008Z"
    }
   },
   "outputs": [
    {
     "data": {
      "text/html": [
       "<div>\n",
       "<style scoped>\n",
       "    .dataframe tbody tr th:only-of-type {\n",
       "        vertical-align: middle;\n",
       "    }\n",
       "\n",
       "    .dataframe tbody tr th {\n",
       "        vertical-align: top;\n",
       "    }\n",
       "\n",
       "    .dataframe thead th {\n",
       "        text-align: right;\n",
       "    }\n",
       "</style>\n",
       "<table border=\"1\" class=\"dataframe\">\n",
       "  <thead>\n",
       "    <tr style=\"text-align: right;\">\n",
       "      <th></th>\n",
       "      <th>index</th>\n",
       "      <th>0</th>\n",
       "      <th>1</th>\n",
       "      <th>2</th>\n",
       "    </tr>\n",
       "  </thead>\n",
       "  <tbody>\n",
       "    <tr>\n",
       "      <th>0</th>\n",
       "      <td>26457</td>\n",
       "      <td>0.150580</td>\n",
       "      <td>0.242412</td>\n",
       "      <td>0.607009</td>\n",
       "    </tr>\n",
       "    <tr>\n",
       "      <th>1</th>\n",
       "      <td>26458</td>\n",
       "      <td>0.248737</td>\n",
       "      <td>0.224398</td>\n",
       "      <td>0.526865</td>\n",
       "    </tr>\n",
       "    <tr>\n",
       "      <th>2</th>\n",
       "      <td>26459</td>\n",
       "      <td>0.140464</td>\n",
       "      <td>0.263335</td>\n",
       "      <td>0.596201</td>\n",
       "    </tr>\n",
       "    <tr>\n",
       "      <th>3</th>\n",
       "      <td>26460</td>\n",
       "      <td>0.231147</td>\n",
       "      <td>0.182914</td>\n",
       "      <td>0.585939</td>\n",
       "    </tr>\n",
       "    <tr>\n",
       "      <th>4</th>\n",
       "      <td>26461</td>\n",
       "      <td>0.141697</td>\n",
       "      <td>0.300582</td>\n",
       "      <td>0.557721</td>\n",
       "    </tr>\n",
       "  </tbody>\n",
       "</table>\n",
       "</div>"
      ],
      "text/plain": [
       "   index         0         1         2\n",
       "0  26457  0.150580  0.242412  0.607009\n",
       "1  26458  0.248737  0.224398  0.526865\n",
       "2  26459  0.140464  0.263335  0.596201\n",
       "3  26460  0.231147  0.182914  0.585939\n",
       "4  26461  0.141697  0.300582  0.557721"
      ]
     },
     "execution_count": 108,
     "metadata": {},
     "output_type": "execute_result"
    }
   ],
   "source": [
    "submission[['0','1','2']] = sub\n",
    "\n",
    "submission.head()"
   ]
  },
  {
   "cell_type": "code",
   "execution_count": 109,
   "metadata": {
    "ExecuteTime": {
     "end_time": "2021-05-15T05:06:08.781380Z",
     "start_time": "2021-05-15T05:06:08.708277Z"
    }
   },
   "outputs": [],
   "source": [
    "submission.to_csv('sub/OVO(lgb+sampleWeight)+Calibration.csv', index=False)"
   ]
  },
  {
   "cell_type": "markdown",
   "metadata": {},
   "source": [
    "# Single + OVO"
   ]
  },
  {
   "cell_type": "code",
   "execution_count": 130,
   "metadata": {
    "ExecuteTime": {
     "end_time": "2021-05-15T05:19:24.941585Z",
     "start_time": "2021-05-15T05:19:24.934079Z"
    }
   },
   "outputs": [
    {
     "data": {
      "text/plain": [
       "2    8878\n",
       "1     947\n",
       "0     175\n",
       "dtype: int64"
      ]
     },
     "execution_count": 130,
     "metadata": {},
     "output_type": "execute_result"
    }
   ],
   "source": [
    "pd.Series(np.argmax((single_sub + sub) / 2 , axis=1)).value_counts()"
   ]
  },
  {
   "cell_type": "code",
   "execution_count": 131,
   "metadata": {
    "ExecuteTime": {
     "end_time": "2021-05-15T05:19:25.880785Z",
     "start_time": "2021-05-15T05:19:25.854786Z"
    }
   },
   "outputs": [
    {
     "data": {
      "text/html": [
       "<div>\n",
       "<style scoped>\n",
       "    .dataframe tbody tr th:only-of-type {\n",
       "        vertical-align: middle;\n",
       "    }\n",
       "\n",
       "    .dataframe tbody tr th {\n",
       "        vertical-align: top;\n",
       "    }\n",
       "\n",
       "    .dataframe thead th {\n",
       "        text-align: right;\n",
       "    }\n",
       "</style>\n",
       "<table border=\"1\" class=\"dataframe\">\n",
       "  <thead>\n",
       "    <tr style=\"text-align: right;\">\n",
       "      <th></th>\n",
       "      <th>index</th>\n",
       "      <th>0</th>\n",
       "      <th>1</th>\n",
       "      <th>2</th>\n",
       "    </tr>\n",
       "  </thead>\n",
       "  <tbody>\n",
       "    <tr>\n",
       "      <th>0</th>\n",
       "      <td>26457</td>\n",
       "      <td>0.102338</td>\n",
       "      <td>0.161347</td>\n",
       "      <td>0.736315</td>\n",
       "    </tr>\n",
       "    <tr>\n",
       "      <th>1</th>\n",
       "      <td>26458</td>\n",
       "      <td>0.201909</td>\n",
       "      <td>0.184521</td>\n",
       "      <td>0.613569</td>\n",
       "    </tr>\n",
       "    <tr>\n",
       "      <th>2</th>\n",
       "      <td>26459</td>\n",
       "      <td>0.089675</td>\n",
       "      <td>0.177371</td>\n",
       "      <td>0.732954</td>\n",
       "    </tr>\n",
       "    <tr>\n",
       "      <th>3</th>\n",
       "      <td>26460</td>\n",
       "      <td>0.169550</td>\n",
       "      <td>0.158331</td>\n",
       "      <td>0.672119</td>\n",
       "    </tr>\n",
       "    <tr>\n",
       "      <th>4</th>\n",
       "      <td>26461</td>\n",
       "      <td>0.107801</td>\n",
       "      <td>0.240910</td>\n",
       "      <td>0.651289</td>\n",
       "    </tr>\n",
       "  </tbody>\n",
       "</table>\n",
       "</div>"
      ],
      "text/plain": [
       "   index         0         1         2\n",
       "0  26457  0.102338  0.161347  0.736315\n",
       "1  26458  0.201909  0.184521  0.613569\n",
       "2  26459  0.089675  0.177371  0.732954\n",
       "3  26460  0.169550  0.158331  0.672119\n",
       "4  26461  0.107801  0.240910  0.651289"
      ]
     },
     "execution_count": 131,
     "metadata": {},
     "output_type": "execute_result"
    }
   ],
   "source": [
    "submission[['0','1','2']] = (single_sub + sub) / 2 \n",
    "\n",
    "submission.head()"
   ]
  },
  {
   "cell_type": "code",
   "execution_count": 132,
   "metadata": {
    "ExecuteTime": {
     "end_time": "2021-05-15T05:19:27.242644Z",
     "start_time": "2021-05-15T05:19:27.178098Z"
    }
   },
   "outputs": [],
   "source": [
    "submission.to_csv('sub/Single_mean_OVO+Calibration.csv', index=False)"
   ]
  }
 ],
 "metadata": {
  "kernelspec": {
   "display_name": "Python 3",
   "language": "python",
   "name": "python3"
  },
  "language_info": {
   "codemirror_mode": {
    "name": "ipython",
    "version": 3
   },
   "file_extension": ".py",
   "mimetype": "text/x-python",
   "name": "python",
   "nbconvert_exporter": "python",
   "pygments_lexer": "ipython3",
   "version": "3.8.3"
  }
 },
 "nbformat": 4,
 "nbformat_minor": 4
}

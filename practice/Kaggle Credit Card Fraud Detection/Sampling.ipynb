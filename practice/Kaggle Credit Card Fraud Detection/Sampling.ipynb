{
 "cells": [
  {
   "cell_type": "code",
   "execution_count": 3,
   "metadata": {
    "ExecuteTime": {
     "end_time": "2021-03-13T07:12:57.142589Z",
     "start_time": "2021-03-13T07:12:56.526686Z"
    }
   },
   "outputs": [],
   "source": [
    "import pandas as pd\n",
    "import numpy as np\n",
    "import matplotlib.pyplot as plt"
   ]
  },
  {
   "cell_type": "code",
   "execution_count": 4,
   "metadata": {
    "ExecuteTime": {
     "end_time": "2021-03-13T07:13:00.024026Z",
     "start_time": "2021-03-13T07:12:57.143594Z"
    }
   },
   "outputs": [],
   "source": [
    "data = pd.read_csv('data/creditcard.csv')\n",
    "data.drop('Time', axis=1, inplace=True)\n",
    "from sklearn.model_selection import train_test_split\n",
    "\n",
    "X_train, X_test, y_train, y_test = train_test_split(\n",
    "    data.drop('Class', axis=1), \n",
    "    data['Class'],\n",
    "    test_size=0.2,\n",
    "    random_state=42,\n",
    "    stratify=data['Class'],\n",
    "    shuffle=True\n",
    ")\n",
    "\n",
    "from sklearn.preprocessing import StandardScaler\n",
    "scaler = StandardScaler()\n",
    "scaler.fit(pd.DataFrame(X_train['Amount']))\n",
    "X_train['Amount'] = scaler.transform(pd.DataFrame(X_train['Amount']))\n",
    "X_test['Amount'] = scaler.transform(pd.DataFrame(X_test['Amount']))"
   ]
  },
  {
   "cell_type": "markdown",
   "metadata": {},
   "source": [
    "# Oversampling"
   ]
  },
  {
   "cell_type": "markdown",
   "metadata": {},
   "source": [
    "## Smote"
   ]
  },
  {
   "cell_type": "code",
   "execution_count": 5,
   "metadata": {
    "ExecuteTime": {
     "end_time": "2021-03-13T07:13:08.242938Z",
     "start_time": "2021-03-13T07:13:08.232967Z"
    }
   },
   "outputs": [
    {
     "data": {
      "text/plain": [
       "0    227451\n",
       "1       394\n",
       "Name: Class, dtype: int64"
      ]
     },
     "execution_count": 5,
     "metadata": {},
     "output_type": "execute_result"
    }
   ],
   "source": [
    "y_train.value_counts()"
   ]
  },
  {
   "cell_type": "code",
   "execution_count": 17,
   "metadata": {
    "ExecuteTime": {
     "end_time": "2021-03-13T07:21:55.962090Z",
     "start_time": "2021-03-13T07:21:55.817190Z"
    }
   },
   "outputs": [
    {
     "name": "stderr",
     "output_type": "stream",
     "text": [
      "C:\\Users\\ghktj\\anaconda3\\envs\\pytorch\\lib\\site-packages\\imblearn\\utils\\_validation.py:587: FutureWarning: Pass sampling_strategy={1: 5000} as keyword args. From version 0.9 passing these as positional arguments will result in an error\n",
      "  warnings.warn(\n"
     ]
    }
   ],
   "source": [
    "from imblearn.over_sampling import SMOTE \n",
    "\n",
    "sm = SMOTE({1 : 5000}, random_state=42, n_jobs=-1) # neighbor = 5\n",
    "X_smote, y_smote = sm.fit_resample(X_train, y_train)"
   ]
  },
  {
   "cell_type": "code",
   "execution_count": 18,
   "metadata": {
    "ExecuteTime": {
     "end_time": "2021-03-13T07:21:56.022092Z",
     "start_time": "2021-03-13T07:21:56.015091Z"
    }
   },
   "outputs": [
    {
     "data": {
      "text/plain": [
       "0    227451\n",
       "1      5000\n",
       "Name: Class, dtype: int64"
      ]
     },
     "execution_count": 18,
     "metadata": {},
     "output_type": "execute_result"
    }
   ],
   "source": [
    "y_smote.value_counts()"
   ]
  },
  {
   "cell_type": "code",
   "execution_count": 19,
   "metadata": {
    "ExecuteTime": {
     "end_time": "2021-03-13T07:21:57.642298Z",
     "start_time": "2021-03-13T07:21:56.380271Z"
    }
   },
   "outputs": [],
   "source": [
    "from sklearn.linear_model import LogisticRegression\n",
    "\n",
    "model = LogisticRegression()\n",
    "model.fit(X_smote, y_smote)\n",
    "train_pred = model.predict(X_smote)\n",
    "test_pred = model.predict(X_test)\n",
    "train_pred_prob = model.predict_proba(X_smote)[:, 1]\n",
    "test_pred_prob = model.predict_proba(X_test)[:, 1]"
   ]
  },
  {
   "cell_type": "code",
   "execution_count": 20,
   "metadata": {
    "ExecuteTime": {
     "end_time": "2021-03-13T07:21:58.047987Z",
     "start_time": "2021-03-13T07:21:57.643300Z"
    }
   },
   "outputs": [
    {
     "name": "stdout",
     "output_type": "stream",
     "text": [
      "Train\n",
      "              precision    recall  f1-score   support\n",
      "\n",
      "           0       1.00      1.00      1.00    227451\n",
      "           1       0.97      0.82      0.89      5000\n",
      "\n",
      "    accuracy                           1.00    232451\n",
      "   macro avg       0.99      0.91      0.95    232451\n",
      "weighted avg       1.00      1.00      1.00    232451\n",
      "\n",
      "Test\n",
      "              precision    recall  f1-score   support\n",
      "\n",
      "           0       1.00      1.00      1.00     56864\n",
      "           1       0.68      0.84      0.75        98\n",
      "\n",
      "    accuracy                           1.00     56962\n",
      "   macro avg       0.84      0.92      0.87     56962\n",
      "weighted avg       1.00      1.00      1.00     56962\n",
      "\n",
      "\n",
      "ROC AUC Train = 0.9878176451191685\n",
      "ROC AUC Test = 0.9636560343045492\n",
      "\n",
      "Average precision socre Train = 0.9029361399207173\n",
      "Average precision socre Test = 0.745749916593066\n"
     ]
    }
   ],
   "source": [
    "from score import printScore\n",
    "\n",
    "printScore(train_pred, test_pred, train_pred_prob, test_pred_prob, y_smote, y_test)"
   ]
  }
 ],
 "metadata": {
  "kernelspec": {
   "display_name": "Python 3",
   "language": "python",
   "name": "python3"
  },
  "language_info": {
   "codemirror_mode": {
    "name": "ipython",
    "version": 3
   },
   "file_extension": ".py",
   "mimetype": "text/x-python",
   "name": "python",
   "nbconvert_exporter": "python",
   "pygments_lexer": "ipython3",
   "version": "3.8.3"
  }
 },
 "nbformat": 4,
 "nbformat_minor": 2
}

{
 "cells": [
  {
   "cell_type": "code",
   "execution_count": 1,
   "metadata": {},
   "outputs": [],
   "source": [
    "import pandas as pd\n",
    "import os"
   ]
  },
  {
   "cell_type": "code",
   "execution_count": 2,
   "metadata": {},
   "outputs": [
    {
     "data": {
      "text/plain": [
       "['yeast-1-2-8-9_vs_7.csv',\n",
       " 'yeast-1_vs_7.csv',\n",
       " 'abalone19.csv',\n",
       " 'yeast-1-4-5-8_vs_7.csv',\n",
       " 'glass-0-1-6_vs_5.csv',\n",
       " 'ecoli4.csv',\n",
       " 'ecoli-0-1-3-7_vs_2-6.csv',\n",
       " 'glass-0-1-6_vs_2.csv',\n",
       " 'shuttle-c2-vs-c4.csv',\n",
       " 'yeast-2_vs_8.csv',\n",
       " 'page-blocks-1-3_vs_4.csv',\n",
       " 'glass2.csv',\n",
       " 'wine.csv',\n",
       " 'glass4.csv',\n",
       " 'abalone9-18.csv',\n",
       " 'glass5.csv',\n",
       " 'shuttle-c0-vs-c4.csv',\n",
       " 'yeast6.csv',\n",
       " 'yeast4.csv',\n",
       " 'vowel0.csv',\n",
       " 'yeast5.csv']"
      ]
     },
     "execution_count": 2,
     "metadata": {},
     "output_type": "execute_result"
    }
   ],
   "source": [
    "os.listdir('../data/tabular_data')"
   ]
  },
  {
   "cell_type": "code",
   "execution_count": 3,
   "metadata": {},
   "outputs": [
    {
     "name": "stdout",
     "output_type": "stream",
     "text": [
      "<data name = yeast-1-2-8-9_vs_7.csv>, <data shape = (947, 9)>\n",
      "<data name = yeast-1_vs_7.csv>, <data shape = (459, 8)>\n",
      "<data name = abalone19.csv>, <data shape = (4174, 9)>\n",
      "<data name = yeast-1-4-5-8_vs_7.csv>, <data shape = (693, 9)>\n",
      "<data name = glass-0-1-6_vs_5.csv>, <data shape = (184, 10)>\n",
      "<data name = ecoli4.csv>, <data shape = (336, 8)>\n",
      "<data name = ecoli-0-1-3-7_vs_2-6.csv>, <data shape = (281, 8)>\n",
      "<data name = glass-0-1-6_vs_2.csv>, <data shape = (192, 10)>\n",
      "<data name = shuttle-c2-vs-c4.csv>, <data shape = (129, 10)>\n",
      "<data name = yeast-2_vs_8.csv>, <data shape = (482, 9)>\n",
      "<data name = page-blocks-1-3_vs_4.csv>, <data shape = (472, 11)>\n",
      "<data name = glass2.csv>, <data shape = (214, 10)>\n",
      "<data name = wine.csv>, <data shape = (4898, 12)>\n",
      "<data name = glass4.csv>, <data shape = (214, 10)>\n",
      "<data name = abalone9-18.csv>, <data shape = (731, 9)>\n",
      "<data name = glass5.csv>, <data shape = (214, 10)>\n",
      "<data name = shuttle-c0-vs-c4.csv>, <data shape = (1829, 10)>\n",
      "<data name = yeast6.csv>, <data shape = (1484, 9)>\n",
      "<data name = yeast4.csv>, <data shape = (1484, 9)>\n",
      "<data name = vowel0.csv>, <data shape = (988, 14)>\n",
      "<data name = yeast5.csv>, <data shape = (1484, 9)>\n"
     ]
    }
   ],
   "source": [
    "for data in os.listdir('../data/tabular_data'):\n",
    "    df = pd.read_csv('../data/tabular_data/' + data)\n",
    "    print(f'<data name = {data}>, <data shape = {df.shape}>')\n"
   ]
  },
  {
   "cell_type": "code",
   "execution_count": 4,
   "metadata": {},
   "outputs": [
    {
     "data": {
      "text/html": [
       "<div>\n",
       "<style scoped>\n",
       "    .dataframe tbody tr th:only-of-type {\n",
       "        vertical-align: middle;\n",
       "    }\n",
       "\n",
       "    .dataframe tbody tr th {\n",
       "        vertical-align: top;\n",
       "    }\n",
       "\n",
       "    .dataframe thead th {\n",
       "        text-align: right;\n",
       "    }\n",
       "</style>\n",
       "<table border=\"1\" class=\"dataframe\">\n",
       "  <thead>\n",
       "    <tr style=\"text-align: right;\">\n",
       "      <th></th>\n",
       "      <th>Mcg</th>\n",
       "      <th>Gvh</th>\n",
       "      <th>Alm</th>\n",
       "      <th>Mit</th>\n",
       "      <th>Erl</th>\n",
       "      <th>Pox</th>\n",
       "      <th>Vac</th>\n",
       "      <th>Nuc</th>\n",
       "      <th>label</th>\n",
       "    </tr>\n",
       "  </thead>\n",
       "  <tbody>\n",
       "    <tr>\n",
       "      <th>0</th>\n",
       "      <td>0.58</td>\n",
       "      <td>0.61</td>\n",
       "      <td>0.47</td>\n",
       "      <td>0.13</td>\n",
       "      <td>0.5</td>\n",
       "      <td>0.0</td>\n",
       "      <td>0.48</td>\n",
       "      <td>0.22</td>\n",
       "      <td>0</td>\n",
       "    </tr>\n",
       "    <tr>\n",
       "      <th>1</th>\n",
       "      <td>0.43</td>\n",
       "      <td>0.67</td>\n",
       "      <td>0.48</td>\n",
       "      <td>0.27</td>\n",
       "      <td>0.5</td>\n",
       "      <td>0.0</td>\n",
       "      <td>0.53</td>\n",
       "      <td>0.22</td>\n",
       "      <td>0</td>\n",
       "    </tr>\n",
       "    <tr>\n",
       "      <th>2</th>\n",
       "      <td>0.64</td>\n",
       "      <td>0.62</td>\n",
       "      <td>0.49</td>\n",
       "      <td>0.15</td>\n",
       "      <td>0.5</td>\n",
       "      <td>0.0</td>\n",
       "      <td>0.53</td>\n",
       "      <td>0.22</td>\n",
       "      <td>0</td>\n",
       "    </tr>\n",
       "    <tr>\n",
       "      <th>3</th>\n",
       "      <td>0.58</td>\n",
       "      <td>0.44</td>\n",
       "      <td>0.57</td>\n",
       "      <td>0.13</td>\n",
       "      <td>0.5</td>\n",
       "      <td>0.0</td>\n",
       "      <td>0.54</td>\n",
       "      <td>0.22</td>\n",
       "      <td>0</td>\n",
       "    </tr>\n",
       "    <tr>\n",
       "      <th>4</th>\n",
       "      <td>0.42</td>\n",
       "      <td>0.44</td>\n",
       "      <td>0.48</td>\n",
       "      <td>0.54</td>\n",
       "      <td>0.5</td>\n",
       "      <td>0.0</td>\n",
       "      <td>0.48</td>\n",
       "      <td>0.22</td>\n",
       "      <td>0</td>\n",
       "    </tr>\n",
       "  </tbody>\n",
       "</table>\n",
       "</div>"
      ],
      "text/plain": [
       "    Mcg   Gvh   Alm   Mit  Erl  Pox   Vac   Nuc  label\n",
       "0  0.58  0.61  0.47  0.13  0.5  0.0  0.48  0.22      0\n",
       "1  0.43  0.67  0.48  0.27  0.5  0.0  0.53  0.22      0\n",
       "2  0.64  0.62  0.49  0.15  0.5  0.0  0.53  0.22      0\n",
       "3  0.58  0.44  0.57  0.13  0.5  0.0  0.54  0.22      0\n",
       "4  0.42  0.44  0.48  0.54  0.5  0.0  0.48  0.22      0"
      ]
     },
     "execution_count": 4,
     "metadata": {},
     "output_type": "execute_result"
    }
   ],
   "source": [
    "df.head()"
   ]
  }
 ],
 "metadata": {
  "interpreter": {
   "hash": "8ed97eebd47cc2b183f41fddb38d4ce1c23d1930a792dc59cd9bafb47ffa6c48"
  },
  "kernelspec": {
   "display_name": "Python 3.9.0 64-bit ('catchMinor': pyenv)",
   "language": "python",
   "name": "python3"
  },
  "language_info": {
   "codemirror_mode": {
    "name": "ipython",
    "version": 3
   },
   "file_extension": ".py",
   "mimetype": "text/x-python",
   "name": "python",
   "nbconvert_exporter": "python",
   "pygments_lexer": "ipython3",
   "version": "3.9.0"
  },
  "orig_nbformat": 4
 },
 "nbformat": 4,
 "nbformat_minor": 2
}
